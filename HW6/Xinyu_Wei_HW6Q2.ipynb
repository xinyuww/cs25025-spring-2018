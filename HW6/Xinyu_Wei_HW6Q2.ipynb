{
 "cells": [
  {
   "cell_type": "markdown",
   "metadata": {},
   "source": [
    "# Multiple Trees on MNIST"
   ]
  },
  {
   "cell_type": "code",
   "execution_count": 23,
   "metadata": {},
   "outputs": [],
   "source": [
    "from sklearn.ensemble import RandomForestClassifier, AdaBoostClassifier\n",
    "import numpy as np\n",
    "from numpy import linalg as LA\n",
    "import pandas as pd\n",
    "import matplotlib.pyplot as plt\n",
    "import time"
   ]
  },
  {
   "cell_type": "code",
   "execution_count": 24,
   "metadata": {},
   "outputs": [],
   "source": [
    "# Load the data and labels\n",
    "data = np.float64(np.load('./MNIST.npy'))\n",
    "labels = np.float32(np.load('./MNIST_labels.npy'))\n",
    "\n",
    "# Divide the data into training, testing, and development\n",
    "training = data[0:50000]\n",
    "training_label = labels[0:50000]\n",
    "val = data[50000:60000]\n",
    "val_label = labels[50000:60000]\n",
    "test = data[60000:]\n",
    "test_label = labels[60000:]\n",
    "train_val = np.concatenate((training, val), axis = 0)\n",
    "train_val_label = np.concatenate((training_label, val_label), axis = 0)"
   ]
  },
  {
   "cell_type": "code",
   "execution_count": 25,
   "metadata": {},
   "outputs": [
    {
     "data": {
      "text/plain": [
       "(60000, 784)"
      ]
     },
     "execution_count": 25,
     "metadata": {},
     "output_type": "execute_result"
    }
   ],
   "source": [
    "train_val.shape"
   ]
  },
  {
   "cell_type": "markdown",
   "metadata": {},
   "source": [
    "## (a)"
   ]
  },
  {
   "cell_type": "code",
   "execution_count": 14,
   "metadata": {},
   "outputs": [],
   "source": [
    "# First test on random parameters\n",
    "num_trees = 5\n",
    "num_features = 50\n",
    "num_nodes = 1000\n",
    "\n",
    "clf = RandomForestClassifier(n_estimators=num_trees, min_samples_split=num_nodes,criterion=\"entropy\", max_features=num_features)"
   ]
  },
  {
   "cell_type": "code",
   "execution_count": 6,
   "metadata": {},
   "outputs": [
    {
     "data": {
      "text/plain": [
       "RandomForestClassifier(bootstrap=True, class_weight=None, criterion='entropy',\n",
       "            max_depth=None, max_features=50, max_leaf_nodes=None,\n",
       "            min_impurity_decrease=0.0, min_impurity_split=None,\n",
       "            min_samples_leaf=1, min_samples_split=1000,\n",
       "            min_weight_fraction_leaf=0.0, n_estimators=5, n_jobs=1,\n",
       "            oob_score=False, random_state=None, verbose=0,\n",
       "            warm_start=False)"
      ]
     },
     "execution_count": 6,
     "metadata": {},
     "output_type": "execute_result"
    }
   ],
   "source": [
    "clf.fit(training, training_label)"
   ]
  },
  {
   "cell_type": "code",
   "execution_count": 7,
   "metadata": {},
   "outputs": [],
   "source": [
    "val_pred = clf.predict(val)"
   ]
  },
  {
   "cell_type": "code",
   "execution_count": 8,
   "metadata": {},
   "outputs": [
    {
     "data": {
      "text/plain": [
       "array([7., 6., 1., ..., 4., 8., 6.], dtype=float32)"
      ]
     },
     "execution_count": 8,
     "metadata": {},
     "output_type": "execute_result"
    }
   ],
   "source": [
    "val_pred"
   ]
  },
  {
   "cell_type": "code",
   "execution_count": 9,
   "metadata": {},
   "outputs": [
    {
     "data": {
      "text/plain": [
       "1715"
      ]
     },
     "execution_count": 9,
     "metadata": {},
     "output_type": "execute_result"
    }
   ],
   "source": [
    "np.count_nonzero(val_label - val_pred)"
   ]
  },
  {
   "cell_type": "code",
   "execution_count": 10,
   "metadata": {},
   "outputs": [],
   "source": [
    "val_pred_prob = clf.predict_proba(val)"
   ]
  },
  {
   "cell_type": "code",
   "execution_count": 11,
   "metadata": {},
   "outputs": [
    {
     "data": {
      "text/plain": [
       "array([0.00000000e+00, 0.00000000e+00, 9.71480601e-04, 2.40140938e-03,\n",
       "       9.74567116e-04, 1.38121547e-04, 4.18994413e-04, 9.91195615e-01,\n",
       "       2.79329609e-04, 3.62048211e-03])"
      ]
     },
     "execution_count": 11,
     "metadata": {},
     "output_type": "execute_result"
    }
   ],
   "source": [
    "val_pred_prob[0]"
   ]
  },
  {
   "cell_type": "code",
   "execution_count": 26,
   "metadata": {},
   "outputs": [],
   "source": [
    "# Function to compute error rate\n",
    "def compute_error_rate(model, data, data_label):\n",
    "    pred = model.predict(data)\n",
    "    num_error = np.count_nonzero(data_label - pred)\n",
    "    error_rate = num_error / pred.shape[0]\n",
    "    return error_rate"
   ]
  },
  {
   "cell_type": "markdown",
   "metadata": {},
   "source": [
    "## Experiment with number of trees"
   ]
  },
  {
   "cell_type": "code",
   "execution_count": 27,
   "metadata": {
    "scrolled": true
   },
   "outputs": [
    {
     "name": "stdout",
     "output_type": "stream",
     "text": [
      "50\n",
      "60\n",
      "70\n",
      "80\n",
      "90\n",
      "100\n",
      "Time elapsed: 112.4348361492157\n"
     ]
    }
   ],
   "source": [
    "start = time.time()\n",
    "nums_trees_test1 = [10,20,30,40,100,1000]\n",
    "nums_trees_test2 = [50,60,70,80,90,100]\n",
    "error_num_trees = []\n",
    "num_features = 50\n",
    "num_nodes = 1000\n",
    "\n",
    "for i in nums_trees_test2:\n",
    "    print(i)\n",
    "    num_trees = i\n",
    "    clf = RandomForestClassifier(n_estimators=num_trees, min_samples_split=num_nodes,criterion=\"entropy\", max_features=num_features)\n",
    "    clf.fit(training, training_label)\n",
    "    error_num_trees.append(compute_error_rate(clf, train_val, train_val_label))\n",
    "end = time.time()\n",
    "print(\"Time elapsed:\", end - start)"
   ]
  },
  {
   "cell_type": "code",
   "execution_count": 24,
   "metadata": {},
   "outputs": [
    {
     "data": {
      "text/plain": [
       "[0.13853333333333334,\n",
       " 0.12078333333333334,\n",
       " 0.12056666666666667,\n",
       " 0.11926666666666667,\n",
       " 0.10906666666666667,\n",
       " 0.10851666666666666]"
      ]
     },
     "execution_count": 24,
     "metadata": {},
     "output_type": "execute_result"
    }
   ],
   "source": [
    "# test1\n",
    "error_num_trees"
   ]
  },
  {
   "cell_type": "code",
   "execution_count": 28,
   "metadata": {},
   "outputs": [
    {
     "data": {
      "text/plain": [
       "[0.11786666666666666,\n",
       " 0.11456666666666666,\n",
       " 0.1119,\n",
       " 0.11086666666666667,\n",
       " 0.1134,\n",
       " 0.11185]"
      ]
     },
     "execution_count": 28,
     "metadata": {},
     "output_type": "execute_result"
    }
   ],
   "source": [
    "# test2\n",
    "error_num_trees"
   ]
  },
  {
   "cell_type": "code",
   "execution_count": 23,
   "metadata": {
    "scrolled": false
   },
   "outputs": [
    {
     "data": {
      "text/plain": [
       "[<matplotlib.lines.Line2D at 0x107a77588>]"
      ]
     },
     "execution_count": 23,
     "metadata": {},
     "output_type": "execute_result"
    },
    {
     "data": {
      "image/png": "[encoded data removed]",
      "text/plain": [
       "<matplotlib.figure.Figure at 0x10346ff60>"
      ]
     },
     "metadata": {},
     "output_type": "display_data"
    }
   ],
   "source": [
    "plt.plot(nums_trees_test1,error_num_trees)"
   ]
  },
  {
   "cell_type": "code",
   "execution_count": 29,
   "metadata": {
    "scrolled": true
   },
   "outputs": [
    {
     "data": {
      "text/plain": [
       "[<matplotlib.lines.Line2D at 0x107a3fa58>]"
      ]
     },
     "execution_count": 29,
     "metadata": {},
     "output_type": "execute_result"
    },
    {
     "data": {
      "image/png": "[encoded data removed]",
      "text/plain": [
       "<matplotlib.figure.Figure at 0x10bc2ccc0>"
      ]
     },
     "metadata": {},
     "output_type": "display_data"
    }
   ],
   "source": [
    "plt.plot(nums_trees_test2,error_num_trees)"
   ]
  },
  {
   "cell_type": "markdown",
   "metadata": {},
   "source": [
    "Comment:\n",
    "- As we can see from the two tests (the first is general search and the second narrows down the scope), the best number of trees is 80."
   ]
  },
  {
   "cell_type": "markdown",
   "metadata": {},
   "source": [
    "## Experiment with number of features"
   ]
  },
  {
   "cell_type": "code",
   "execution_count": 33,
   "metadata": {},
   "outputs": [
    {
     "name": "stdout",
     "output_type": "stream",
     "text": [
      "10\n",
      "15\n",
      "20\n",
      "25\n",
      "30\n",
      "35\n",
      "40\n",
      "Time elapsed: 76.42705488204956\n"
     ]
    }
   ],
   "source": [
    "start = time.time()\n",
    "num_features_test1 = [10, 20, 40, 50, 100, 200, 300, 400, 500, 600, 784]\n",
    "num_features_test2 = [10, 15,20,25,30,35,40]\n",
    "error_num_features = []\n",
    "num_trees = 80\n",
    "num_nodes = 1000\n",
    "\n",
    "for i in num_features_test2:\n",
    "    print(i)\n",
    "    num_features = i\n",
    "    clf = RandomForestClassifier(n_estimators=num_trees, min_samples_split=num_nodes,criterion=\"entropy\", max_features=num_features)\n",
    "    clf.fit(training, training_label)\n",
    "    error_num_features.append(compute_error_rate(clf, train_val, train_val_label))\n",
    "end = time.time()\n",
    "print(\"Time elapsed:\", end - start)"
   ]
  },
  {
   "cell_type": "code",
   "execution_count": 31,
   "metadata": {
    "scrolled": true
   },
   "outputs": [
    {
     "data": {
      "text/plain": [
       "[0.11103333333333333,\n",
       " 0.10938333333333333,\n",
       " 0.11181666666666666,\n",
       " 0.11511666666666667,\n",
       " 0.1182,\n",
       " 0.1243,\n",
       " 0.13495,\n",
       " 0.1432,\n",
       " 0.15431666666666666,\n",
       " 0.16361666666666666,\n",
       " 0.19125]"
      ]
     },
     "execution_count": 31,
     "metadata": {},
     "output_type": "execute_result"
    }
   ],
   "source": [
    "# test 1\n",
    "error_num_features"
   ]
  },
  {
   "cell_type": "code",
   "execution_count": 34,
   "metadata": {},
   "outputs": [
    {
     "data": {
      "text/plain": [
       "[0.11023333333333334,\n",
       " 0.1088,\n",
       " 0.11013333333333333,\n",
       " 0.10998333333333334,\n",
       " 0.10818333333333334,\n",
       " 0.10541666666666667,\n",
       " 0.11501666666666667]"
      ]
     },
     "execution_count": 34,
     "metadata": {},
     "output_type": "execute_result"
    }
   ],
   "source": [
    "# test 2\n",
    "error_num_features"
   ]
  },
  {
   "cell_type": "code",
   "execution_count": 32,
   "metadata": {
    "scrolled": true
   },
   "outputs": [
    {
     "data": {
      "text/plain": [
       "[<matplotlib.lines.Line2D at 0x10ba29d68>]"
      ]
     },
     "execution_count": 32,
     "metadata": {},
     "output_type": "execute_result"
    },
    {
     "data": {
      "image/png": "[encoded data removed]",
      "text/plain": [
       "<matplotlib.figure.Figure at 0x10b9df2e8>"
      ]
     },
     "metadata": {},
     "output_type": "display_data"
    }
   ],
   "source": [
    "plt.plot(num_features_test1, error_num_features)"
   ]
  },
  {
   "cell_type": "code",
   "execution_count": 35,
   "metadata": {
    "scrolled": true
   },
   "outputs": [
    {
     "data": {
      "text/plain": [
       "[<matplotlib.lines.Line2D at 0x10ad740b8>]"
      ]
     },
     "execution_count": 35,
     "metadata": {},
     "output_type": "execute_result"
    },
    {
     "data": {
      "image/png": "[encoded data removed]",
      "text/plain": [
       "<matplotlib.figure.Figure at 0x10ba42748>"
      ]
     },
     "metadata": {},
     "output_type": "display_data"
    }
   ],
   "source": [
    "plt.plot(num_features_test2, error_num_features)"
   ]
  },
  {
   "cell_type": "markdown",
   "metadata": {},
   "source": [
    "Comment:\n",
    " - As we can see from the two tests (the first is general search and the second narrows down the scope), the best number of features is 35."
   ]
  },
  {
   "cell_type": "markdown",
   "metadata": {},
   "source": [
    "## Experiment with minimum sample splits"
   ]
  },
  {
   "cell_type": "code",
   "execution_count": 41,
   "metadata": {},
   "outputs": [
    {
     "name": "stdout",
     "output_type": "stream",
     "text": [
      "2\n",
      "3\n",
      "4\n",
      "5\n",
      "6\n",
      "7\n",
      "8\n",
      "9\n",
      "10\n",
      "Time elapsed: 237.48136806488037\n"
     ]
    }
   ],
   "source": [
    "start = time.time()\n",
    "num_nodes_test1 = [10,20,30,40,100]\n",
    "num_nodes_test2 = [2,3,4,5,6,7,8,9,10]\n",
    "error_num_nodes = []\n",
    "num_trees = 80\n",
    "num_features = 35\n",
    "\n",
    "for i in num_nodes_test2:\n",
    "    print(i)\n",
    "    num_nodes = i\n",
    "    clf = RandomForestClassifier(n_estimators=num_trees, min_samples_split=num_nodes,criterion=\"entropy\", max_features=num_features)\n",
    "    clf.fit(training, training_label)\n",
    "    error_num_nodes.append(compute_error_rate(clf, train_val, train_val_label))\n",
    "end = time.time()\n",
    "print(\"Time elapsed:\", end - start)"
   ]
  },
  {
   "cell_type": "code",
   "execution_count": 37,
   "metadata": {},
   "outputs": [
    {
     "data": {
      "text/plain": [
       "[0.007583333333333333, 0.013616666666666666, 0.02045, 0.0258, 0.04395]"
      ]
     },
     "execution_count": 37,
     "metadata": {},
     "output_type": "execute_result"
    }
   ],
   "source": [
    "# test 1\n",
    "error_num_nodes"
   ]
  },
  {
   "cell_type": "code",
   "execution_count": 42,
   "metadata": {},
   "outputs": [
    {
     "data": {
      "text/plain": [
       "[0.005566666666666667,\n",
       " 0.00565,\n",
       " 0.005516666666666666,\n",
       " 0.0057666666666666665,\n",
       " 0.0058,\n",
       " 0.006183333333333333,\n",
       " 0.006533333333333334,\n",
       " 0.006933333333333333,\n",
       " 0.00735]"
      ]
     },
     "execution_count": 42,
     "metadata": {},
     "output_type": "execute_result"
    }
   ],
   "source": [
    "# test 2\n",
    "error_num_nodes"
   ]
  },
  {
   "cell_type": "code",
   "execution_count": 38,
   "metadata": {
    "scrolled": true
   },
   "outputs": [
    {
     "data": {
      "text/plain": [
       "[<matplotlib.lines.Line2D at 0x10adae160>]"
      ]
     },
     "execution_count": 38,
     "metadata": {},
     "output_type": "execute_result"
    },
    {
     "data": {
      "image/png": "[encoded data removed]",
      "text/plain": [
       "<matplotlib.figure.Figure at 0x10ad7beb8>"
      ]
     },
     "metadata": {},
     "output_type": "display_data"
    }
   ],
   "source": [
    "plt.plot(num_nodes_test1, error_num_nodes)"
   ]
  },
  {
   "cell_type": "code",
   "execution_count": 43,
   "metadata": {
    "scrolled": false
   },
   "outputs": [
    {
     "data": {
      "text/plain": [
       "[<matplotlib.lines.Line2D at 0x102ad2ef0>]"
      ]
     },
     "execution_count": 43,
     "metadata": {},
     "output_type": "execute_result"
    },
    {
     "data": {
      "image/png": "[encoded data removed]",
      "text/plain": [
       "<matplotlib.figure.Figure at 0x1084a62b0>"
      ]
     },
     "metadata": {},
     "output_type": "display_data"
    }
   ],
   "source": [
    "plt.plot(num_nodes_test2, error_num_nodes)"
   ]
  },
  {
   "cell_type": "markdown",
   "metadata": {},
   "source": [
    "Comment:\n",
    " - As we can see from the two tests (the first is general search and the second narrows down the scope), the best minimum sample splits is 4."
   ]
  },
  {
   "cell_type": "markdown",
   "metadata": {},
   "source": [
    "## Test on Best Parameters"
   ]
  },
  {
   "cell_type": "code",
   "execution_count": 27,
   "metadata": {},
   "outputs": [],
   "source": [
    "# Test on the best parameters\n",
    "num_trees = 80\n",
    "num_nodes = 4\n",
    "num_features = 35\n",
    "clf = RandomForestClassifier(n_estimators=num_trees, min_samples_split=num_nodes,criterion=\"entropy\", max_features=num_features)\n",
    "clf.fit(train_val, train_val_label)\n",
    "test_error = compute_error_rate(clf, test, test_label)"
   ]
  },
  {
   "cell_type": "code",
   "execution_count": 28,
   "metadata": {},
   "outputs": [
    {
     "data": {
      "text/plain": [
       "0.0265"
      ]
     },
     "execution_count": 28,
     "metadata": {},
     "output_type": "execute_result"
    }
   ],
   "source": [
    "test_error"
   ]
  },
  {
   "cell_type": "markdown",
   "metadata": {},
   "source": [
    "## (b) Boost Classifier"
   ]
  },
  {
   "cell_type": "code",
   "execution_count": 59,
   "metadata": {},
   "outputs": [],
   "source": [
    "# First play around with random parameters\n",
    "num_trees = 5\n",
    "num_features = 5\n",
    "num_nodes = 1000\n",
    "num_estimators = 5"
   ]
  },
  {
   "cell_type": "code",
   "execution_count": 50,
   "metadata": {},
   "outputs": [],
   "source": [
    "clfb = RandomForestClassifier(n_estimators=num_trees, min_samples_split=num_nodes,criterion=\"entropy\", max_features=num_features)"
   ]
  },
  {
   "cell_type": "code",
   "execution_count": 51,
   "metadata": {},
   "outputs": [
    {
     "data": {
      "text/plain": [
       "AdaBoostClassifier(algorithm='SAMME',\n",
       "          base_estimator=RandomForestClassifier(bootstrap=True, class_weight=None, criterion='entropy',\n",
       "            max_depth=None, max_features=5, max_leaf_nodes=None,\n",
       "            min_impurity_decrease=0.0, min_impurity_split=None,\n",
       "            min_samples_leaf=1, min_samples_split=1000,\n",
       "            min_weight_fraction_leaf=0.0, n_estimators=5, n_jobs=1,\n",
       "            oob_score=False, random_state=None, verbose=0,\n",
       "            warm_start=False),\n",
       "          learning_rate=1.0, n_estimators=5, random_state=12345)"
      ]
     },
     "execution_count": 51,
     "metadata": {},
     "output_type": "execute_result"
    }
   ],
   "source": [
    "adb = AdaBoostClassifier(clfb,n_estimators=num_estimators,algorithm='SAMME',random_state=12345)\n",
    "adb.fit(training, training_label)"
   ]
  },
  {
   "cell_type": "code",
   "execution_count": 52,
   "metadata": {},
   "outputs": [],
   "source": [
    "val_pred = adb.predict(val)"
   ]
  },
  {
   "cell_type": "code",
   "execution_count": 53,
   "metadata": {},
   "outputs": [
    {
     "data": {
      "text/plain": [
       "1510"
      ]
     },
     "execution_count": 53,
     "metadata": {},
     "output_type": "execute_result"
    }
   ],
   "source": [
    "np.count_nonzero(val_label - val_pred)"
   ]
  },
  {
   "cell_type": "markdown",
   "metadata": {},
   "source": [
    "Note: \n",
    " - The number of error made is less than the classic random forest in part (a) when we played around with the same random parameters at the beginning."
   ]
  },
  {
   "cell_type": "code",
   "execution_count": 30,
   "metadata": {},
   "outputs": [],
   "source": [
    "# Function to experiment with parameters\n",
    "def experiment_para(parameter, test):\n",
    "    error = []\n",
    "    for i in test:\n",
    "        print(i)\n",
    "        if parameter == 'num_trees':\n",
    "            num_trees = i\n",
    "        else:\n",
    "            num_trees = 1\n",
    "        if parameter == 'num_features':\n",
    "            num_features = i\n",
    "        else:\n",
    "            num_features = 35\n",
    "        if parameter == 'num_nodes':\n",
    "            num_nodes = i\n",
    "        else:\n",
    "            num_nodes = 4\n",
    "        if parameter == 'num_estimators':\n",
    "            num_estimators = i;\n",
    "        else:\n",
    "            num_estimators = 10\n",
    "        clfb = RandomForestClassifier(n_estimators=num_trees, min_samples_split=num_nodes,criterion=\"entropy\", max_features=num_features)\n",
    "        adb = AdaBoostClassifier(clfb,n_estimators=num_estimators,algorithm='SAMME',random_state=12345)\n",
    "        adb.fit(training, training_label)\n",
    "        error.append(compute_error_rate(adb, train_val, train_val_label))\n",
    "    return error"
   ]
  },
  {
   "cell_type": "markdown",
   "metadata": {},
   "source": [
    "## Experiment with number of trees"
   ]
  },
  {
   "cell_type": "code",
   "execution_count": 73,
   "metadata": {
    "scrolled": true
   },
   "outputs": [
    {
     "name": "stdout",
     "output_type": "stream",
     "text": [
      "1\n",
      "2\n",
      "3\n",
      "4\n",
      "5\n",
      "6\n",
      "7\n",
      "8\n",
      "9\n",
      "10\n"
     ]
    },
    {
     "data": {
      "image/png": "[encoded data removed]",
      "text/plain": [
       "<matplotlib.figure.Figure at 0x1087b8fd0>"
      ]
     },
     "metadata": {},
     "output_type": "display_data"
    }
   ],
   "source": [
    "nums_trees_test1 = [1,2,3,4,5,6,7,8,9,10]\n",
    "plt.plot(nums_trees_test1, experiment_para('num_trees', nums_trees_test1))\n",
    "plt.show()"
   ]
  },
  {
   "cell_type": "markdown",
   "metadata": {},
   "source": [
    "Comment:\n",
    " - As seen in the plot, the best number of trees is 9"
   ]
  },
  {
   "cell_type": "markdown",
   "metadata": {},
   "source": [
    "## Experiment with number of features"
   ]
  },
  {
   "cell_type": "code",
   "execution_count": 31,
   "metadata": {},
   "outputs": [
    {
     "name": "stdout",
     "output_type": "stream",
     "text": [
      "10\n",
      "20\n",
      "40\n",
      "50\n",
      "100\n",
      "400\n",
      "784\n"
     ]
    },
    {
     "data": {
      "image/png": "[encoded data removed]",
      "text/plain": [
       "<matplotlib.figure.Figure at 0x11cf2f6a0>"
      ]
     },
     "metadata": {},
     "output_type": "display_data"
    },
    {
     "name": "stdout",
     "output_type": "stream",
     "text": [
      "10\n",
      "15\n",
      "20\n",
      "25\n",
      "30\n",
      "35\n",
      "40\n"
     ]
    },
    {
     "data": {
      "image/png": "[encoded data removed]",
      "text/plain": [
       "<matplotlib.figure.Figure at 0x10fa3c5c0>"
      ]
     },
     "metadata": {},
     "output_type": "display_data"
    }
   ],
   "source": [
    "num_features_test1 = [10, 20, 40, 50, 100, 400, 784]\n",
    "num_features_test2 = [10, 15,20,25,30,35,40]\n",
    "error1 =  experiment_para('num_features', num_features_test1)\n",
    "plt.plot(num_features_test1,error1)\n",
    "plt.show()\n",
    "error2 =  experiment_para('num_features', num_features_test2)\n",
    "plt.plot(num_features_test2, error2)\n",
    "plt.show()"
   ]
  },
  {
   "cell_type": "code",
   "execution_count": 34,
   "metadata": {
    "scrolled": true
   },
   "outputs": [
    {
     "data": {
      "text/plain": [
       "[0.016483333333333332,\n",
       " 0.01445,\n",
       " 0.013783333333333333,\n",
       " 0.01265,\n",
       " 0.012316666666666667,\n",
       " 0.011416666666666667,\n",
       " 0.010466666666666668]"
      ]
     },
     "execution_count": 34,
     "metadata": {},
     "output_type": "execute_result"
    }
   ],
   "source": [
    "error1"
   ]
  },
  {
   "cell_type": "code",
   "execution_count": 35,
   "metadata": {
    "scrolled": true
   },
   "outputs": [
    {
     "data": {
      "text/plain": [
       "[0.016483333333333332,\n",
       " 0.015316666666666666,\n",
       " 0.01445,\n",
       " 0.014066666666666667,\n",
       " 0.01445,\n",
       " 0.013633333333333334,\n",
       " 0.013783333333333333]"
      ]
     },
     "execution_count": 35,
     "metadata": {},
     "output_type": "execute_result"
    }
   ],
   "source": [
    "error2"
   ]
  },
  {
   "cell_type": "markdown",
   "metadata": {},
   "source": [
    "Comment:\n",
    " - Combined the plots and printed error on two tests, the more feature there is, the lower the error rate. For efficiency consideration, we will choose 10 features since the accuracy is already very high."
   ]
  },
  {
   "cell_type": "markdown",
   "metadata": {},
   "source": [
    "## Experiment on minimum sample splits"
   ]
  },
  {
   "cell_type": "code",
   "execution_count": 36,
   "metadata": {
    "scrolled": true
   },
   "outputs": [
    {
     "name": "stdout",
     "output_type": "stream",
     "text": [
      "10\n",
      "20\n",
      "30\n",
      "40\n",
      "100\n"
     ]
    },
    {
     "data": {
      "image/png": "[encoded data removed]",
      "text/plain": [
       "<matplotlib.figure.Figure at 0x11d337ac8>"
      ]
     },
     "metadata": {},
     "output_type": "display_data"
    },
    {
     "name": "stdout",
     "output_type": "stream",
     "text": [
      "2\n",
      "3\n",
      "4\n",
      "5\n",
      "6\n",
      "7\n",
      "8\n",
      "9\n",
      "10\n"
     ]
    },
    {
     "data": {
      "image/png": "[encoded data removed]",
      "text/plain": [
       "<matplotlib.figure.Figure at 0x11d0f6240>"
      ]
     },
     "metadata": {},
     "output_type": "display_data"
    }
   ],
   "source": [
    "num_nodes_test1 = [10,20,30,40,100]\n",
    "num_nodes_test2 = [2,3,4,5,6,7,8,9,10]\n",
    "error1 =  experiment_para('num_nodes', num_nodes_test1)\n",
    "plt.plot(num_nodes_test1, error1)\n",
    "plt.show()\n",
    "error2 =  experiment_para('num_nodes', num_nodes_test2)\n",
    "plt.plot(num_nodes_test2, error2)\n",
    "plt.show()"
   ]
  },
  {
   "cell_type": "code",
   "execution_count": 37,
   "metadata": {},
   "outputs": [
    {
     "data": {
      "text/plain": [
       "[0.01425,\n",
       " 0.016983333333333333,\n",
       " 0.02075,\n",
       " 0.022533333333333332,\n",
       " 0.05503333333333333]"
      ]
     },
     "execution_count": 37,
     "metadata": {},
     "output_type": "execute_result"
    }
   ],
   "source": [
    "error1"
   ]
  },
  {
   "cell_type": "code",
   "execution_count": 38,
   "metadata": {
    "scrolled": true
   },
   "outputs": [
    {
     "data": {
      "text/plain": [
       "[0.013116666666666667,\n",
       " 0.0132,\n",
       " 0.013633333333333334,\n",
       " 0.01275,\n",
       " 0.013683333333333334,\n",
       " 0.0129,\n",
       " 0.01365,\n",
       " 0.015033333333333333,\n",
       " 0.01425]"
      ]
     },
     "execution_count": 38,
     "metadata": {},
     "output_type": "execute_result"
    }
   ],
   "source": [
    "error2"
   ]
  },
  {
   "cell_type": "markdown",
   "metadata": {},
   "source": [
    "Comment:\n",
    " - As can be seen, the higher the number of nodes to stop growing the tree, the worse the performance. At a closer look at the first 10 numbers of nodes, we found the best number if 5."
   ]
  },
  {
   "cell_type": "markdown",
   "metadata": {},
   "source": [
    "## Experiment with number of trees in Adaboost Classifier"
   ]
  },
  {
   "cell_type": "code",
   "execution_count": 39,
   "metadata": {},
   "outputs": [
    {
     "name": "stdout",
     "output_type": "stream",
     "text": [
      "10\n",
      "20\n",
      "30\n",
      "40\n",
      "100\n"
     ]
    },
    {
     "data": {
      "image/png": "[encoded data removed]",
      "text/plain": [
       "<matplotlib.figure.Figure at 0x11d3495c0>"
      ]
     },
     "metadata": {},
     "output_type": "display_data"
    },
    {
     "name": "stdout",
     "output_type": "stream",
     "text": [
      "50\n",
      "60\n",
      "70\n",
      "80\n",
      "90\n",
      "100\n"
     ]
    },
    {
     "data": {
      "image/png": "[encoded data removed]",
      "text/plain": [
       "<matplotlib.figure.Figure at 0x1a3e6ab668>"
      ]
     },
     "metadata": {},
     "output_type": "display_data"
    }
   ],
   "source": [
    "num_estimators_test1 = [10,20,30,40,100]\n",
    "num_estimators_test2 = [50,60,70,80,90,100]\n",
    "error1 = experiment_para('num_estimators', num_estimators_test1)\n",
    "plt.plot(num_estimators_test1, error1)\n",
    "plt.show()\n",
    "error2 = experiment_para('num_estimators', num_estimators_test2)\n",
    "plt.plot(num_estimators_test2, error2)\n",
    "plt.show()"
   ]
  },
  {
   "cell_type": "code",
   "execution_count": 40,
   "metadata": {},
   "outputs": [
    {
     "data": {
      "text/plain": [
       "[0.013633333333333334,\n",
       " 0.0093,\n",
       " 0.008166666666666666,\n",
       " 0.007983333333333334,\n",
       " 0.007983333333333334]"
      ]
     },
     "execution_count": 40,
     "metadata": {},
     "output_type": "execute_result"
    }
   ],
   "source": [
    "error1"
   ]
  },
  {
   "cell_type": "code",
   "execution_count": 41,
   "metadata": {
    "scrolled": true
   },
   "outputs": [
    {
     "data": {
      "text/plain": [
       "[0.007983333333333334,\n",
       " 0.007983333333333334,\n",
       " 0.007983333333333334,\n",
       " 0.007983333333333334,\n",
       " 0.007983333333333334,\n",
       " 0.007983333333333334]"
      ]
     },
     "execution_count": 41,
     "metadata": {},
     "output_type": "execute_result"
    }
   ],
   "source": [
    "error2"
   ]
  },
  {
   "cell_type": "markdown",
   "metadata": {},
   "source": [
    "Comment:\n",
    " - As can be seen from the plots and printed errors, the error rate stops to drop when number of trees is higher than 40. We will pick 40."
   ]
  },
  {
   "cell_type": "markdown",
   "metadata": {},
   "source": [
    "## Test on best parameters"
   ]
  },
  {
   "cell_type": "code",
   "execution_count": 43,
   "metadata": {},
   "outputs": [],
   "source": [
    "# Test on best parameters\n",
    "num_trees = 9\n",
    "num_features = 10\n",
    "num_nodes = 5\n",
    "num_estimators = 40\n",
    "clfb = RandomForestClassifier(n_estimators=num_trees, min_samples_split=num_nodes,criterion=\"entropy\",\\\n",
    "                              max_features=num_features)\n",
    "adb = AdaBoostClassifier(clfb,n_estimators=num_estimators,algorithm='SAMME',random_state=12345)\n",
    "adb.fit(train_val, train_val_label)\n",
    "test_error = compute_error_rate(adb, test, test_label)"
   ]
  },
  {
   "cell_type": "code",
   "execution_count": 44,
   "metadata": {
    "scrolled": true
   },
   "outputs": [
    {
     "data": {
      "text/plain": [
       "0.032"
      ]
     },
     "execution_count": 44,
     "metadata": {},
     "output_type": "execute_result"
    }
   ],
   "source": [
    "test_error"
   ]
  },
  {
   "cell_type": "markdown",
   "metadata": {},
   "source": [
    "Comment:\n",
    " - The error rate is higher than in part (a), but the error rate in part(a) is very low, could be that the parameters are optimized but here in part(b) for efficiency consideration the parameters are not exactly optimized. This model already performs very well."
   ]
  },
  {
   "cell_type": "markdown",
   "metadata": {},
   "source": [
    "## (c) A Different Boosting Reweighting Rule"
   ]
  },
  {
   "cell_type": "markdown",
   "metadata": {},
   "source": [
    "Implement a different boosting reweighting rule,  wherewi=wi∗1/e,  for each misclassified example.  To do this you will need to grow trees one by one.  The clf.fit function  has  a  parameter weights which  allows  you  to  train  the  tree with your own weights on the data points.  In this protocol you do not use the β’s, rather you aggregate the trees as in random forest by averaging the terminal probabilities of all the trees.  Perform the same comparisons you did in (a),(b) with this protocol."
   ]
  },
  {
   "cell_type": "code",
   "execution_count": 46,
   "metadata": {},
   "outputs": [],
   "source": [
    "# Function to update weights\n",
    "def update_weights(model, weights):\n",
    "    pred = model.predict(training)\n",
    "    ind = np.nonzero(pred - training_label)\n",
    "    e = sum(weights[ind])\n",
    "    for i in ind:\n",
    "        weights[i] = weights[i]/e\n",
    "    weights = weights / sum(weights)\n",
    "    return weights"
   ]
  },
  {
   "cell_type": "code",
   "execution_count": 110,
   "metadata": {},
   "outputs": [
    {
     "name": "stdout",
     "output_type": "stream",
     "text": [
      "0\n",
      "1\n",
      "2\n",
      "3\n",
      "4\n",
      "5\n",
      "6\n",
      "7\n",
      "8\n",
      "9\n",
      "10\n",
      "11\n",
      "12\n",
      "13\n",
      "14\n",
      "15\n",
      "16\n",
      "17\n",
      "18\n",
      "19\n",
      "20\n",
      "21\n",
      "22\n",
      "23\n",
      "24\n",
      "25\n",
      "26\n",
      "27\n",
      "28\n",
      "29\n",
      "30\n",
      "31\n",
      "32\n",
      "33\n",
      "34\n",
      "35\n",
      "36\n",
      "37\n",
      "38\n",
      "39\n",
      "40\n",
      "41\n",
      "42\n",
      "43\n",
      "44\n",
      "45\n",
      "46\n",
      "47\n",
      "48\n",
      "49\n",
      "50\n",
      "51\n",
      "52\n",
      "53\n",
      "54\n",
      "55\n",
      "56\n",
      "57\n",
      "58\n",
      "59\n",
      "60\n",
      "61\n",
      "62\n",
      "63\n",
      "64\n",
      "65\n",
      "66\n",
      "67\n",
      "68\n",
      "69\n",
      "70\n",
      "71\n",
      "72\n",
      "73\n",
      "74\n",
      "75\n",
      "76\n",
      "77\n",
      "78\n",
      "79\n"
     ]
    }
   ],
   "source": [
    "# Try with the best parameters in part (a)\n",
    "# Grow trees one by one\n",
    "num_nodes = 4\n",
    "num_features = 35\n",
    "num_trees = 1\n",
    "w = np.float64([1/50000]*50000)\n",
    "trees = []\n",
    "for i in range(80):\n",
    "    print(i)\n",
    "    clf = RandomForestClassifier(n_estimators=num_trees, min_samples_split=num_nodes,\\\n",
    "                                    criterion=\"entropy\", max_features=num_features)\n",
    "    clf.fit(training, training_label, sample_weight = w)\n",
    "    trees.append(clf)\n",
    "    w = update_weights(clf, w)"
   ]
  },
  {
   "cell_type": "code",
   "execution_count": 111,
   "metadata": {},
   "outputs": [],
   "source": [
    "prob = np.zeros((10000, 10))\n",
    "for clf in trees:\n",
    "    prob = prob + clf.predict_proba(val)\n",
    "prob = prob / len(trees)\n",
    "pred = np.array([np.argmax(prob[i]) for i in range(prob.shape[0])])\n",
    "error = np.count_nonzero(pred - val_label) / pred.shape[0]"
   ]
  },
  {
   "cell_type": "code",
   "execution_count": 112,
   "metadata": {
    "scrolled": true
   },
   "outputs": [
    {
     "data": {
      "text/plain": [
       "0.0354"
      ]
     },
     "execution_count": 112,
     "metadata": {},
     "output_type": "execute_result"
    }
   ],
   "source": [
    "error"
   ]
  },
  {
   "cell_type": "markdown",
   "metadata": {},
   "source": [
    "Comment: \n",
    " - The error rate is a little bit higher than in part(a) with the same parameters, but still in a good performance.\n",
    " - The error rate is similar to that in part(b) but a little bit higher. \n",
    " - The parameters could be better tuned."
   ]
  },
  {
   "cell_type": "markdown",
   "metadata": {},
   "source": [
    "## (d) SVM"
   ]
  },
  {
   "cell_type": "code",
   "execution_count": 4,
   "metadata": {},
   "outputs": [],
   "source": [
    "from sklearn.svm import SVC"
   ]
  },
  {
   "cell_type": "code",
   "execution_count": 18,
   "metadata": {},
   "outputs": [],
   "source": [
    "gsvm = SVC(kernel=\"rbf\", C = 1/100)"
   ]
  },
  {
   "cell_type": "code",
   "execution_count": 19,
   "metadata": {},
   "outputs": [
    {
     "name": "stdout",
     "output_type": "stream",
     "text": [
      "Time elapsed: 10456.457587003708\n"
     ]
    }
   ],
   "source": [
    "start = time.time()\n",
    "gsvm.fit(training[:50000], training_label[:50000])\n",
    "end = time.time()\n",
    "print(\"Time elapsed:\", end - start)"
   ]
  },
  {
   "cell_type": "code",
   "execution_count": 20,
   "metadata": {},
   "outputs": [
    {
     "name": "stdout",
     "output_type": "stream",
     "text": [
      "Time elapsed: 429.6975769996643\n"
     ]
    }
   ],
   "source": [
    "start = time.time()\n",
    "svm_acc = gsvm.score(val,val_label)\n",
    "end = time.time()\n",
    "print(\"Time elapsed:\", end - start)"
   ]
  },
  {
   "cell_type": "code",
   "execution_count": 17,
   "metadata": {},
   "outputs": [
    {
     "data": {
      "text/plain": [
       "0.8972"
      ]
     },
     "execution_count": 17,
     "metadata": {},
     "output_type": "execute_result"
    }
   ],
   "source": [
    "svm_acc"
   ]
  },
  {
   "cell_type": "markdown",
   "metadata": {},
   "source": [
    "Comment:\n",
    " - The SVM is much slower to fit and predict. The fitting time is longer than the predict time. As the number of data grows, the time required to fit grows in a non linear way.\n",
    " - The accuracy is lower than the random forest. In this case, the random forest is both faster and more accurate."
   ]
  }
 ],
 "metadata": {
  "kernelspec": {
   "display_name": "Python 3",
   "language": "python",
   "name": "python3"
  },
  "language_info": {
   "codemirror_mode": {
    "name": "ipython",
    "version": 3
   },
   "file_extension": ".py",
   "mimetype": "text/x-python",
   "name": "python",
   "nbconvert_exporter": "python",
   "pygments_lexer": "ipython3",
   "version": "3.6.4"
  }
 },
 "nbformat": 4,
 "nbformat_minor": 2
}
