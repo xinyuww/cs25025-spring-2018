{
 "cells": [
  {
   "cell_type": "markdown",
   "metadata": {},
   "source": [
    "# EM"
   ]
  },
  {
   "cell_type": "code",
   "execution_count": 1,
   "metadata": {},
   "outputs": [],
   "source": [
    "import numpy as np\n",
    "import math\n",
    "from scipy.special import logsumexp\n",
    "from numpy import linalg as LA"
   ]
  },
  {
   "cell_type": "code",
   "execution_count": 99,
   "metadata": {},
   "outputs": [],
   "source": [
    "# Load data\n",
    "X = np.load(\"./X.npy\")"
   ]
  },
  {
   "cell_type": "code",
   "execution_count": 100,
   "metadata": {
    "scrolled": true
   },
   "outputs": [
    {
     "data": {
      "text/plain": [
       "array([[2, 2, 1, ..., 1, 1, 0],\n",
       "       [0, 0, 0, ..., 0, 0, 0],\n",
       "       [0, 2, 2, ..., 0, 0, 1],\n",
       "       ...,\n",
       "       [0, 0, 0, ..., 1, 1, 0],\n",
       "       [0, 0, 0, ..., 0, 0, 0],\n",
       "       [0, 0, 0, ..., 2, 1, 1]])"
      ]
     },
     "execution_count": 100,
     "metadata": {},
     "output_type": "execute_result"
    }
   ],
   "source": [
    "X"
   ]
  },
  {
   "cell_type": "code",
   "execution_count": 101,
   "metadata": {},
   "outputs": [],
   "source": [
    "n = X.shape[0]\n",
    "d = X.shape[1]"
   ]
  },
  {
   "cell_type": "code",
   "execution_count": 150,
   "metadata": {},
   "outputs": [],
   "source": [
    "# Initialization\n",
    "a = np.array([0.5, 0.4, 0.1])\n",
    "b = np.array([0.5, 0.4, 0.1])\n",
    "c = np.array([0.5, 0.4, 0.1])\n",
    "p = np.array([float(1)/(d-3)] * (d-3))"
   ]
  },
  {
   "cell_type": "code",
   "execution_count": 103,
   "metadata": {},
   "outputs": [],
   "source": [
    "# Function to compute the wik matrix, as specified in question (d)\n",
    "def compute_w(X, a, b, c, p):\n",
    "    v = np.empty([n, d-3])\n",
    "    for j in range(d-3):\n",
    "        v[:,j] = np.log(a[X[:, j]]) + np.log(a[X[:,j+1]]) + np.log(b[X[:, j+2]]) + np.log(b[X[:, j+3]]) \\\n",
    "                + np.log(p[j]) + np.sum(np.array([np.log(c[X[:,p]]) for p in range(d) if p not in range(j,j+4)]), axis = 0)\n",
    "            \n",
    "    dd = logsumexp(v, axis = 1)\n",
    "    w = np.exp(v-dd[:,None])\n",
    "    return w"
   ]
  },
  {
   "cell_type": "code",
   "execution_count": 149,
   "metadata": {},
   "outputs": [],
   "source": [
    "# Discussed with Zihao Wang\n",
    "# Function to update parameters as specified in question (d)\n",
    "def update_parameters(X, w,a,b,c,p):\n",
    "    theta_old = np.concatenate((a,b,c))\n",
    "    \n",
    "    p_new = w.mean(axis = 0)\n",
    "\n",
    "    a_m = np.zeros([n,d-3,3])\n",
    "    b_m = np.zeros([n,d-3,3])\n",
    "    c_m = np.zeros([n,d-3,3])\n",
    "    \n",
    "    for i in range(3):\n",
    "        for k in range(d-3):\n",
    "            a_m[:,k,i] = (X[:,k:k+2] == i).sum(axis = 1) * w[:,k]\n",
    "            b_m[:,k,i] = (X[:,k+2:k+4] == i).sum(axis = 1) * w[:,k]\n",
    "            c_m[:,k,i] = ((X[:,:k] == i).sum(axis = 1)+ (X[:,k+4:] == i).sum(axis = 1)) * w[:,k]\n",
    "    for i in range(3):   \n",
    "        a[i] = a_m[:,:,i].sum()/ a_m.sum()\n",
    "        b[i] = b_m[:,:,i].sum()/ b_m.sum()\n",
    "        c[i] = c_m[:,:,i].sum()/ c_m.sum()\n",
    "        \n",
    "    theta_new = np.concatenate((a,b,c))\n",
    "        \n",
    "    diff = LA.norm(theta_new-theta_old)/LA.norm(theta_old)\n",
    "    \n",
    "    return a,b,c,p_new,diff"
   ]
  },
  {
   "cell_type": "code",
   "execution_count": 151,
   "metadata": {},
   "outputs": [
    {
     "name": "stdout",
     "output_type": "stream",
     "text": [
      "0\n",
      "1\n",
      "2\n",
      "3\n",
      "4\n",
      "5\n",
      "6\n",
      "7\n",
      "8\n",
      "9\n",
      "10\n",
      "11\n",
      "12\n",
      "13\n",
      "14\n"
     ]
    }
   ],
   "source": [
    "# Set the tolerance\n",
    "tol = math.pow(10,-8)\n",
    "\n",
    "# EM iteration\n",
    "for i in range(1000):\n",
    "    print(i)\n",
    "    w = compute_w(X, a, b, c, p)\n",
    "    a,b,c,p,diff = update_parameters(X, w,a,b,c,p)\n",
    "    if diff < tol:\n",
    "        break"
   ]
  },
  {
   "cell_type": "code",
   "execution_count": 152,
   "metadata": {
    "scrolled": true
   },
   "outputs": [
    {
     "data": {
      "text/plain": [
       "(array([0.02938031, 0.00561969, 0.965     ]),\n",
       " array([1.50746086e-01, 8.49253914e-01, 1.68200290e-20]),\n",
       " array([9.07484201e-01, 9.25157992e-02, 3.66066233e-29]),\n",
       " array([0.27      , 0.15      , 0.05911207, 0.08088793, 0.09      ,\n",
       "        0.05      , 0.06      , 0.01      , 0.03010818, 0.04981944,\n",
       "        0.02007238, 0.03      , 0.00964855, 0.01035145, 0.02007223,\n",
       "        0.04992777, 0.01      ]),\n",
       " 2.7417217327211868e-09)"
      ]
     },
     "execution_count": 152,
     "metadata": {},
     "output_type": "execute_result"
    }
   ],
   "source": [
    "# The estimated parameters\n",
    "a,b,c,p,diff"
   ]
  }
 ],
 "metadata": {
  "kernelspec": {
   "display_name": "Python 3",
   "language": "python",
   "name": "python3"
  },
  "language_info": {
   "codemirror_mode": {
    "name": "ipython",
    "version": 3
   },
   "file_extension": ".py",
   "mimetype": "text/x-python",
   "name": "python",
   "nbconvert_exporter": "python",
   "pygments_lexer": "ipython3",
   "version": "3.6.4"
  }
 },
 "nbformat": 4,
 "nbformat_minor": 2
}
