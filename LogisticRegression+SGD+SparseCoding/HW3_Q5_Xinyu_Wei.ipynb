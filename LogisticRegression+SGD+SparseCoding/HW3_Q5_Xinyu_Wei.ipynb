{
 "cells": [
  {
   "cell_type": "code",
   "execution_count": 96,
   "metadata": {},
   "outputs": [],
   "source": [
    "import scipy.io\n",
    "from scipy.sparse import *\n",
    "from scipy import *\n",
    "%matplotlib inline\n",
    "import matplotlib.pyplot as plt\n",
    "import pandas as pd\n",
    "import numpy as np\n",
    "from numpy import linalg as LA\n",
    "import sklearn\n",
    "from sklearn.svm import LinearSVC\n",
    "from sklearn.linear_model import LogisticRegression\n",
    "from sklearn.model_selection import train_test_split\n",
    "from sklearn.preprocessing import normalize\n",
    "import random\n",
    "import string\n",
    "import os\n",
    "import re\n",
    "import math\n",
    "import json\n",
    "import time"
   ]
  },
  {
   "cell_type": "code",
   "execution_count": 19,
   "metadata": {},
   "outputs": [],
   "source": [
    "# Load the beer review data from 'labeled.json'\n",
    "beer_review_df = pd.read_json('labeled.json', lines = True)"
   ]
  },
  {
   "cell_type": "markdown",
   "metadata": {},
   "source": [
    "Part I Data Inspection"
   ]
  },
  {
   "cell_type": "code",
   "execution_count": 20,
   "metadata": {},
   "outputs": [],
   "source": [
    "# Check the mean, median and standard deviation of the overall ratings\n",
    "overll_mean = beer_review_df[\"overall\"].mean()\n",
    "overll_median = beer_review_df[\"overall\"].median()\n",
    "overll_std = beer_review_df[\"overall\"].std()"
   ]
  },
  {
   "cell_type": "code",
   "execution_count": 21,
   "metadata": {
    "scrolled": true
   },
   "outputs": [
    {
     "data": {
      "image/png": "[encoded data removed]",
      "text/plain": [
       "<matplotlib.figure.Figure at 0x1abc6a9c50>"
      ]
     },
     "metadata": {},
     "output_type": "display_data"
    }
   ],
   "source": [
    "# Plot the ooverall ratings distribution\n",
    "beer_review_df[\"overall\"].hist()\n",
    "plt.show()"
   ]
  },
  {
   "cell_type": "code",
   "execution_count": 22,
   "metadata": {
    "scrolled": true
   },
   "outputs": [
    {
     "name": "stdout",
     "output_type": "stream",
     "text": [
      "Statistics of the overall ratings:\n",
      "Mean: 13.198879641948754\n",
      "Median: 14.0\n",
      "Standard deviation: 3.352351483317063\n"
     ]
    }
   ],
   "source": [
    "# Print the mean, median, standard deviation of the overall ratings \n",
    "print(\"Statistics of the overall ratings:\")\n",
    "print(\"Mean: \" + str(overll_mean))\n",
    "print(\"Median: \" + str(overll_median))\n",
    "print(\"Standard deviation: \" + str(overll_std))"
   ]
  },
  {
   "cell_type": "markdown",
   "metadata": {},
   "source": [
    "The mean (14.0) and the median (13.2) is close, indicating that the ratings are concentrated and without many outliers. The standard deviation is around 3, indicating the variation of people's ratings. The ratings are centered at the high score range (14.0). The number of extreme ratings like 20.0 or <5.0 is low. Most people give intermediate scores in the range of 10-17.5. "
   ]
  },
  {
   "cell_type": "markdown",
   "metadata": {},
   "source": [
    "Part III Sentiment Analysis"
   ]
  },
  {
   "cell_type": "markdown",
   "metadata": {},
   "source": [
    "(a) Generating Features"
   ]
  },
  {
   "cell_type": "code",
   "execution_count": 23,
   "metadata": {},
   "outputs": [],
   "source": [
    "# Function to normalize the text and separate into space delimited tokens\n",
    "def clean_and_split(s):\n",
    "    # encode to UTF-8, convert to lowercase and translate all hyphens and\n",
    "    # punctuation to whitespace\n",
    "    s = s.lower().replace('-',' ').translate(string.punctuation)\n",
    "    # replace \\r\\n\n",
    "    s = re.sub('(\\r\\n)+',' ',s)\n",
    "    # replace whitespace substrings with one whitespace and remove\n",
    "    # leading/trailing whitespaces\n",
    "    s = re.sub(' +',' ',s.strip())\n",
    "    return s.split(' ')"
   ]
  },
  {
   "cell_type": "code",
   "execution_count": 24,
   "metadata": {},
   "outputs": [
    {
     "name": "stdout",
     "output_type": "stream",
     "text": [
      "Time elapsed:  937.9917941093445\n"
     ]
    }
   ],
   "source": [
    "# Clean and split the reviews\n",
    "start = time.time()\n",
    "beer_review_df[\"clean_text\"] = beer_review_df[\"review\"].apply(clean_and_split)\n",
    "end = time.time()\n",
    "print(\"Time elapsed: \", end-start)"
   ]
  },
  {
   "cell_type": "code",
   "execution_count": 25,
   "metadata": {},
   "outputs": [],
   "source": [
    "# Load the vocabulary file\n",
    "with open('vocab_50.json') as f:\n",
    "    vocab = json.load(f)"
   ]
  },
  {
   "cell_type": "code",
   "execution_count": 26,
   "metadata": {},
   "outputs": [
    {
     "name": "stdout",
     "output_type": "stream",
     "text": [
      "Time elapsed:  115.52337980270386\n"
     ]
    }
   ],
   "source": [
    "### REFRENCE: Yihan Zhang ###\n",
    "# Get the row and column index of the 1's in the sparse matrix\n",
    "start = time.time()\n",
    "vocab_index_dict = {x:i for i,x in enumerate(vocab)}\n",
    "reviews = pd.DataFrame(beer_review_df[\"clean_text\"])\n",
    "row_ind = []\n",
    "col_ind = []\n",
    "for row in reviews.itertuples():\n",
    "    for word in set(row.clean_text):\n",
    "        if word in vocab_index_dict:\n",
    "            row_ind.append(row.Index)\n",
    "            col_ind.append(vocab_index_dict[word])\n",
    "end = time.time()\n",
    "print(\"Time elapsed: \", end-start)"
   ]
  },
  {
   "cell_type": "code",
   "execution_count": 27,
   "metadata": {},
   "outputs": [],
   "source": [
    "# Generate the features sparse matrix for all the reviews\n",
    "# Fill up 1's at the indices in row_ind and col_ind\n",
    "features = csr_matrix((np.ones(len(row_ind)),(row_ind,col_ind)),shape=(len(beer_review_df),len(vocab)),dtype = np.int8)"
   ]
  },
  {
   "cell_type": "code",
   "execution_count": 28,
   "metadata": {},
   "outputs": [],
   "source": [
    "# Use 14 as cutoff point to classfiy overall review (1 if overal >= 14, 0 otherwise)\n",
    "beer_review_df[\"overall_binary\"] = beer_review_df[\"overall\"].apply(lambda x: 1 if x >= 14 else 0)"
   ]
  },
  {
   "cell_type": "code",
   "execution_count": 98,
   "metadata": {},
   "outputs": [
    {
     "name": "stderr",
     "output_type": "stream",
     "text": [
      "/anaconda3/lib/python3.6/site-packages/sklearn/model_selection/_split.py:2026: FutureWarning: From version 0.21, test_size will always complement train_size unless both are specified.\n",
      "  FutureWarning)\n"
     ]
    }
   ],
   "source": [
    "# Split the data into training, validation and testing sets with proportion 0.7:0.15:0.15\n",
    "# First separate the training data of proportion 0.7 from validation and test data\n",
    "X_train,X_valtest,Y_train,Y_valtest = train_test_split(features,beer_review_df[\"overall_binary\"],train_size=0.7, random_state = 12345)\n",
    "\n",
    "# Next separate the validation and test half and half\n",
    "X_validation,X_test,Y_validation,Y_test = train_test_split(X_valtest,Y_valtest,train_size = 0.5,random_state = 12345)"
   ]
  },
  {
   "cell_type": "markdown",
   "metadata": {},
   "source": [
    "(b) Logistic Regression Using Newton’s method."
   ]
  },
  {
   "cell_type": "code",
   "execution_count": 30,
   "metadata": {},
   "outputs": [
    {
     "name": "stdout",
     "output_type": "stream",
     "text": [
      "Time elapsed:  147.70592093467712\n"
     ]
    }
   ],
   "source": [
    "# Train an l2-regularized logistic regression classifier\n",
    "# Create the logistic regression class\n",
    "# After experiment, regularization parameter C = 0.01 is the best \n",
    "start = time.time()\n",
    "C = 0.01\n",
    "LR = LogisticRegression(C = C, penalty='l2')\n",
    "LR.fit(X_train, Y_train)\n",
    "end = time.time()\n",
    "print(\"Time elapsed: \", end-start)"
   ]
  },
  {
   "cell_type": "code",
   "execution_count": 31,
   "metadata": {},
   "outputs": [],
   "source": [
    "# Prediction on X_validation\n",
    "y_val_pred = LR.predict(X_validation)"
   ]
  },
  {
   "cell_type": "code",
   "execution_count": 32,
   "metadata": {},
   "outputs": [],
   "source": [
    "# Creating the confusion matrix\n",
    "from sklearn.metrics import confusion_matrix\n",
    "cm = confusion_matrix(Y_validation, y_val_pred)"
   ]
  },
  {
   "cell_type": "code",
   "execution_count": 33,
   "metadata": {},
   "outputs": [
    {
     "name": "stdout",
     "output_type": "stream",
     "text": [
      "Error Rate at C = 0.01 is 0.2348827731182565\n"
     ]
    }
   ],
   "source": [
    "# Compute the error rate\n",
    "er = (cm[0,1]+cm[1,0])/cm.sum()\n",
    "print(\"Error Rate at C =\", C, \"is\", er)"
   ]
  },
  {
   "cell_type": "code",
   "execution_count": 34,
   "metadata": {},
   "outputs": [
    {
     "name": "stdout",
     "output_type": "stream",
     "text": [
      "Error Rate at C = 0.01 is 0.2348827731182565\n"
     ]
    }
   ],
   "source": [
    "# Experiment with different regularization parameter C\n",
    "C_lgr = 0.01\n",
    "exp_LR = LogisticRegression(C = C_lgr, penalty='l2')\n",
    "exp_LR.fit(X_train, Y_train)\n",
    "\n",
    "# Prediction on X_validation\n",
    "exp_y_val_pred = exp_LR.predict(X_validation)\n",
    "\n",
    "# Create confusion matrix\n",
    "exp_cm = confusion_matrix(Y_validation, exp_y_val_pred)\n",
    "\n",
    "# Compute the error rate\n",
    "er = (cm[0,1]+cm[1,0])/cm.sum()\n",
    "print(\"Error Rate at C_lgr =\", C_lgr, \"is\", er)"
   ]
  },
  {
   "cell_type": "code",
   "execution_count": 99,
   "metadata": {},
   "outputs": [
    {
     "data": {
      "text/plain": [
       "LinearSVC(C=1.0, class_weight=None, dual=True, fit_intercept=True,\n",
       "     intercept_scaling=1, loss='hinge', max_iter=1000, multi_class='ovr',\n",
       "     penalty='l2', random_state=None, tol=0.0001, verbose=0)"
      ]
     },
     "execution_count": 99,
     "metadata": {},
     "output_type": "execute_result"
    }
   ],
   "source": [
    "# Train the data with LinearSVC\n",
    "SVC = LinearSVC(loss='hinge')\n",
    "SVC.fit(X_train, Y_train)"
   ]
  },
  {
   "cell_type": "code",
   "execution_count": 100,
   "metadata": {},
   "outputs": [
    {
     "name": "stdout",
     "output_type": "stream",
     "text": [
      "Error Rate is 0.23315064673201913\n"
     ]
    }
   ],
   "source": [
    "# Create the confusion matrix and compute error rate\n",
    "y_pred_svc = SVC.predict(X_validation)\n",
    "cm_svc = confusion_matrix(Y_validation,y_pred_svc)\n",
    "er_svc = (cm_svc[0,1] + cm_svc[1,0])/cm_svc.sum()\n",
    "print(\"Error Rate is\", er_svc)"
   ]
  },
  {
   "cell_type": "code",
   "execution_count": 101,
   "metadata": {},
   "outputs": [
    {
     "name": "stdout",
     "output_type": "stream",
     "text": [
      "Error Rate at C_svc = 0.01 is 0.2339711276518158\n"
     ]
    }
   ],
   "source": [
    "# Experiment with different regularization parameter C\n",
    "C_svc = 0.01\n",
    "exp_SVC = LinearSVC(loss='hinge', C = C_svc)\n",
    "exp_SVC.fit(X_train, Y_train)\n",
    "\n",
    "# Prediction on X_validation\n",
    "exp_y_val_pred_svc = exp_SVC.predict(X_validation)\n",
    "\n",
    "# Create confusion matrix\n",
    "exp_cm_svc = confusion_matrix(Y_validation, exp_y_val_pred_svc)\n",
    "\n",
    "# Compute the error rate\n",
    "exp_er_svc = (exp_cm_svc[0,1]+exp_cm_svc[1,0])/exp_cm_svc.sum()\n",
    "print(\"Error Rate at C_svc =\", C_svc, \"is\", exp_er_svc)"
   ]
  },
  {
   "cell_type": "markdown",
   "metadata": {},
   "source": [
    "There is not much difference in the logistic loss and hinge loss. The choice of regularization parameter C between 0 an 1 doesn't pose much influence on neither the logistic loss nor the hinge loss."
   ]
  },
  {
   "cell_type": "markdown",
   "metadata": {},
   "source": [
    "(c) Stochastic Gradient Descent"
   ]
  },
  {
   "cell_type": "code",
   "execution_count": 35,
   "metadata": {},
   "outputs": [],
   "source": [
    "# Function that computes the error rate \n",
    "def compute_error(X, Y, w,b):\n",
    "    if type(X) == type(Y):\n",
    "        z = np.dot(X,w) + b\n",
    "    else:\n",
    "        z = X*w + b\n",
    "    a = np.reciprocal(1 + np.exp((-1)*z))\n",
    "    b = np.array(a)\n",
    "    flag = lambda x : 1 if x >0.5 else 0\n",
    "    y_pred = np.vectorize(flag)(b)\n",
    "    cm = confusion_matrix(Y,y_pred)\n",
    "    error = (cm[0,1]+cm[1,0])/cm.sum()\n",
    "    print(\"error rate is \" + str(error))\n",
    "    return error"
   ]
  },
  {
   "cell_type": "code",
   "execution_count": 79,
   "metadata": {},
   "outputs": [],
   "source": [
    "# Function that computes the negative log likelihood\n",
    "def compute_neglog_likelihood(X, Y, w, b, m):\n",
    "    if type(X) == type(Y):\n",
    "        z = np.dot(X,w) + b\n",
    "    else:\n",
    "        z = X*w + b\n",
    "    a = np.reciprocal(1 + np.exp((-1)*z))\n",
    "    loga = np.log(a)\n",
    "    neglog = float((-1/m)*(Y.transpose().dot(np.log(a)) + (1-Y).transpose().dot(np.log(1-a))))\n",
    "    return neglog"
   ]
  },
  {
   "cell_type": "code",
   "execution_count": 80,
   "metadata": {},
   "outputs": [],
   "source": [
    "# Function that trains an l2-regularized logistic regression classifier using stochastic gradient descent\n",
    "# After experiment, constant learning rate r = 0.6/(t+1) gives the lowest error rate\n",
    "# After experiment, regularization parameter alpha = 0.0001 gives the best result\n",
    "def lg_sgd(X, Y, num_epoch = 10, minibatch_size = 1500, alpha = 0.0001):\n",
    "    \n",
    "    if type(X) == type(Y):\n",
    "        num_features = 5\n",
    "    else:\n",
    "        num_features = 30009\n",
    "    w = np.array([np.zeros(num_features)]).transpose()\n",
    "    b = -5\n",
    "    \n",
    "    num_minibatch = Y.shape[0] // minibatch_size\n",
    "    \n",
    "    error = []\n",
    "    neglog = []\n",
    "    for t in range(num_epoch):\n",
    "        r = 0.6/(t+1)\n",
    "        \n",
    "        arr = np.arange(Y.shape[0])\n",
    "        np.random.shuffle(arr)\n",
    "    \n",
    "        for j in range(num_minibatch+1):\n",
    "            index = arr[j:j+minibatch_size]\n",
    "            minix = X[index]\n",
    "            miniy = Y[index]\n",
    "            \n",
    "            if type(X) == type(Y):\n",
    "                z = np.dot(minix,w) + b\n",
    "            else:\n",
    "                z = minix*w + b\n",
    "\n",
    "            a = 1/(1+np.exp(-1*z))\n",
    "            dl = (-1/minibatch_size)*(miniy*(1/a) - (1-miniy)*(1/(1-a)))\n",
    "            \n",
    "            da = np.exp(z)/((1+np.exp(z))*(1+np.exp(z)))\n",
    "            u = dl*da\n",
    "           \n",
    "            if type(X) == type(Y):\n",
    "                dw = np.multiply(minix, u).sum(axis=0) + (alpha/minibatch_size)*w.transpose()\n",
    "            else: \n",
    "                dw = np.array(minix.multiply(u).sum(axis=0)) + (alpha/minibatch_size)*w.transpose()\n",
    "            w = w - r*dw.transpose()\n",
    "            \n",
    "            db = u.sum()\n",
    "            b = b - r*db\n",
    "            \n",
    "        error.append(compute_error(X,Y,w,b))\n",
    "        neglog.append(compute_neglog_likelihood(X, Y, w,b,Y.shape[0]))\n",
    "    return w, b, error, neglog"
   ]
  },
  {
   "cell_type": "code",
   "execution_count": 62,
   "metadata": {},
   "outputs": [],
   "source": [
    "# Convert Y to the numpy array format\n",
    "Y_train = np.array([Y_train]).transpose()\n",
    "Y_validation = np.array([Y_validation]).transpose()\n",
    "Y_test = np.array([Y_test]).transpose()"
   ]
  },
  {
   "cell_type": "code",
   "execution_count": 63,
   "metadata": {},
   "outputs": [],
   "source": [
    "xtest = X_test[:500,:]\n",
    "ytest = np.array([Y_test[:500]]).transpose()"
   ]
  },
  {
   "cell_type": "code",
   "execution_count": 64,
   "metadata": {},
   "outputs": [],
   "source": [
    "# Concatenate the training and validation data\n",
    "from scipy.sparse import hstack\n",
    "X_trainval = hstack([X_train.transpose(),X_validation.transpose()]).transpose()\n",
    "Y_trainval = np.concatenate((Y_train,Y_validation), axis = 0)"
   ]
  },
  {
   "cell_type": "code",
   "execution_count": 81,
   "metadata": {
    "scrolled": true
   },
   "outputs": [
    {
     "name": "stdout",
     "output_type": "stream",
     "text": [
      "error rate is 0.3085892604080165\n",
      "error rate is 0.2943477201375039\n",
      "error rate is 0.285557124910393\n",
      "error rate is 0.2813681304252163\n",
      "error rate is 0.27634351363564313\n",
      "error rate is 0.28257850520134664\n",
      "error rate is 0.27618973263398466\n",
      "error rate is 0.2717471177891497\n",
      "error rate is 0.26964575954802583\n",
      "error rate is 0.2684737117292319\n",
      "Time elapsed:  82.8669970035553\n"
     ]
    }
   ],
   "source": [
    "# Train the model on both training and validation data\n",
    "start = time.time()\n",
    "w_text_trainval, b_text_trainval, error, neglog = lg_sgd(X_trainval, Y_trainval)\n",
    "end = time.time()\n",
    "print(\"Time elapsed: \", end-start)"
   ]
  },
  {
   "cell_type": "code",
   "execution_count": 82,
   "metadata": {},
   "outputs": [
    {
     "data": {
      "text/plain": [
       "[0.615501819239318,\n",
       " 0.596254355251678,\n",
       " 0.5737274074643025,\n",
       " 0.5682114696960102,\n",
       " 0.5559213338667616,\n",
       " 0.5574424881670557,\n",
       " 0.5500632854092957,\n",
       " 0.5436327110992669,\n",
       " 0.5381251967520827,\n",
       " 0.5367834947325337]"
      ]
     },
     "execution_count": 82,
     "metadata": {},
     "output_type": "execute_result"
    }
   ],
   "source": [
    "neglog"
   ]
  },
  {
   "cell_type": "code",
   "execution_count": 83,
   "metadata": {
    "scrolled": true
   },
   "outputs": [
    {
     "data": {
      "image/png": "[encoded data removed]",
      "text/plain": [
       "<matplotlib.figure.Figure at 0x1bf9783a90>"
      ]
     },
     "metadata": {},
     "output_type": "display_data"
    },
    {
     "data": {
      "image/png": "[encoded data removed]",
      "text/plain": [
       "<matplotlib.figure.Figure at 0x1bf98faa58>"
      ]
     },
     "metadata": {},
     "output_type": "display_data"
    }
   ],
   "source": [
    "# Plot the error rate and negative log likelihood for each 150 iterations\n",
    "plt.plot(error)\n",
    "plt.show()\n",
    "plt.plot(neglog)\n",
    "plt.show()"
   ]
  },
  {
   "cell_type": "markdown",
   "metadata": {},
   "source": [
    "The error rate and negative log likelihood were computed and plotted at the end of each epoch (10 epochs in total). There is a clear trend of decreasing in both values."
   ]
  },
  {
   "cell_type": "code",
   "execution_count": 84,
   "metadata": {},
   "outputs": [
    {
     "name": "stdout",
     "output_type": "stream",
     "text": [
      "error rate is 0.26839038699246287\n"
     ]
    },
    {
     "data": {
      "text/plain": [
       "0.26839038699246287"
      ]
     },
     "execution_count": 84,
     "metadata": {},
     "output_type": "execute_result"
    }
   ],
   "source": [
    "# Compute the error rate on test set\n",
    "compute_error(X_test, Y_test, w_text_trainval, b_text_trainval)"
   ]
  },
  {
   "cell_type": "markdown",
   "metadata": {},
   "source": [
    "The SGD is much faster than the Logistic regression function in the previous part. The SDG takes ~82 seconds but the Logistic regression function in the previous part takes ~147 seconds. The SGD gives a little bit higher error rate (~0.29) than the Logistic regression function in previous part (~0.23). "
   ]
  },
  {
   "cell_type": "markdown",
   "metadata": {},
   "source": [
    "PART III Scores Versus Text"
   ]
  },
  {
   "cell_type": "code",
   "execution_count": 86,
   "metadata": {},
   "outputs": [],
   "source": [
    "# Standardize the scores\n",
    "appearance_mean, aroma_mean, style_mean, taste_mean, palate_mean = beer_review_df[\"appearance\"].mean(),\\\n",
    "    beer_review_df[\"aroma\"].mean(), beer_review_df[\"style\"].mean(), beer_review_df[\"taste\"].mean(),\\\n",
    "    beer_review_df[\"palate\"].mean()\n",
    "    \n",
    "appearance_sd, aroma_sd, style_sd, taste_sd, palate_sd = beer_review_df[\"appearance\"].std(),\\\n",
    "    beer_review_df[\"aroma\"].std(), beer_review_df[\"style\"].std(), beer_review_df[\"taste\"].std(),\\\n",
    "    beer_review_df[\"palate\"].std()\n",
    "\n",
    "stand_appearance = beer_review_df[\"appearance\"].apply(lambda x: (x-appearance_mean)/appearance_sd)\n",
    "stand_aroma = beer_review_df[\"aroma\"].apply(lambda x: (x-aroma_mean)/aroma_sd)\n",
    "stand_style = beer_review_df[\"style\"].apply(lambda x: (x-style_mean)/style_sd)\n",
    "stand_taste = beer_review_df[\"taste\"].apply(lambda x: (x-taste_mean)/taste_sd)\n",
    "stand_palate = beer_review_df[\"palate\"].apply(lambda x: (x-palate_mean)/palate_sd)"
   ]
  },
  {
   "cell_type": "code",
   "execution_count": 87,
   "metadata": {},
   "outputs": [],
   "source": [
    "# Create matrix with the five scores as features\n",
    "scores = np.array([stand_appearance,stand_aroma, stand_style,stand_taste,stand_palate]).transpose()"
   ]
  },
  {
   "cell_type": "code",
   "execution_count": 88,
   "metadata": {
    "scrolled": true
   },
   "outputs": [
    {
     "data": {
      "text/plain": [
       "(2486348, 5)"
      ]
     },
     "execution_count": 88,
     "metadata": {},
     "output_type": "execute_result"
    }
   ],
   "source": [
    "scores.shape"
   ]
  },
  {
   "cell_type": "code",
   "execution_count": 89,
   "metadata": {},
   "outputs": [
    {
     "name": "stderr",
     "output_type": "stream",
     "text": [
      "/anaconda3/lib/python3.6/site-packages/sklearn/model_selection/_split.py:2026: FutureWarning: From version 0.21, test_size will always complement train_size unless both are specified.\n",
      "  FutureWarning)\n"
     ]
    }
   ],
   "source": [
    "# Split the data into training, validation and testing sets with proportion 0.7:0.15:0.15\n",
    "# First separate the training data of proportion 0.7 from validation and test data\n",
    "ScoresX_train,ScoresX_valtest, ScoresY_train, ScoresY_valtest = train_test_split(scores, beer_review_df[\"overall_binary\"], train_size=0.7, random_state = 12345)\n",
    "\n",
    "# Next separate the validation and test half and half\n",
    "ScoresX_validation,ScoresX_test,ScoresY_validation,ScoresY_test = train_test_split(ScoresX_valtest,ScoresY_valtest,train_size = 0.5,random_state = 12345)"
   ]
  },
  {
   "cell_type": "code",
   "execution_count": 90,
   "metadata": {},
   "outputs": [],
   "source": [
    "# Convert Y to the numpy array format\n",
    "ScoresY_train = np.array([ScoresY_train]).transpose()\n",
    "ScoresY_validation = np.array([ScoresY_validation]).transpose()\n",
    "ScoresY_test = np.array([ScoresY_test]).transpose()"
   ]
  },
  {
   "cell_type": "code",
   "execution_count": 91,
   "metadata": {},
   "outputs": [],
   "source": [
    "# Concatenate the training and validation data\n",
    "ScoresX_trainval = np.concatenate((ScoresX_train,ScoresX_validation), axis = 0)\n",
    "ScoresY_trainval = np.concatenate((ScoresY_train,ScoresY_validation), axis = 0)"
   ]
  },
  {
   "cell_type": "code",
   "execution_count": 92,
   "metadata": {
    "scrolled": false
   },
   "outputs": [
    {
     "name": "stdout",
     "output_type": "stream",
     "text": [
      "error rate is 0.14759058469596534\n",
      "error rate is 0.14470913439854105\n",
      "error rate is 0.1455686856737049\n",
      "error rate is 0.14659715945882743\n",
      "error rate is 0.14686490738277552\n",
      "error rate is 0.14732168763929643\n",
      "error rate is 0.147536000891727\n",
      "error rate is 0.14639203926816333\n",
      "error rate is 0.147285489958591\n",
      "error rate is 0.14626678380159533\n",
      "error rate is 0.1456434071944915\n"
     ]
    },
    {
     "data": {
      "text/plain": [
       "0.1456434071944915"
      ]
     },
     "execution_count": 92,
     "metadata": {},
     "output_type": "execute_result"
    }
   ],
   "source": [
    "# Train the model on the training set and experiment with parameters on the validation set\n",
    "w_train, b_train, error, neglog = lg_sgd(ScoresX_train, ScoresY_train)\n",
    "compute_error(ScoresX_validation, ScoresY_validation, w_train, b_train)"
   ]
  },
  {
   "cell_type": "code",
   "execution_count": 93,
   "metadata": {
    "scrolled": true
   },
   "outputs": [
    {
     "name": "stdout",
     "output_type": "stream",
     "text": [
      "error rate is 0.1462045665859908\n",
      "error rate is 0.1469266275353164\n",
      "error rate is 0.14612318094819\n",
      "error rate is 0.14776224983971287\n",
      "error rate is 0.1457806041937262\n",
      "error rate is 0.14488488900560473\n",
      "error rate is 0.14913586906375761\n",
      "error rate is 0.14662237773818904\n",
      "error rate is 0.14653010913719394\n",
      "error rate is 0.1462944693254219\n"
     ]
    }
   ],
   "source": [
    "# Train the model on both training and validation set with the optimized parameters\n",
    "w_trainval, b_trainval, error, neglog = lg_sgd(ScoresX_trainval, ScoresY_trainval)"
   ]
  },
  {
   "cell_type": "code",
   "execution_count": 94,
   "metadata": {
    "scrolled": false
   },
   "outputs": [
    {
     "name": "stdout",
     "output_type": "stream",
     "text": [
      "error rate is 0.14545800677297138\n"
     ]
    },
    {
     "data": {
      "text/plain": [
       "0.14545800677297138"
      ]
     },
     "execution_count": 94,
     "metadata": {},
     "output_type": "execute_result"
    }
   ],
   "source": [
    "# Report the error on the test set\n",
    "compute_error(ScoresX_test, ScoresY_test,w_trainval,b_trainval)"
   ]
  },
  {
   "cell_type": "markdown",
   "metadata": {},
   "source": [
    "Which model predicts better? Is the representation you constructed for text more powerful, or are the scores? Why? Comment on your findings and discuss your thinking."
   ]
  },
  {
   "cell_type": "markdown",
   "metadata": {},
   "source": [
    "The scores predict better than the text because it gives smaller error rate (~0.14) than the text does (~0.26). One of the reasons for the higher error rate of text prediction is that the vocaubulary could not catch the sarcastism perfectly. For example, there might be positive words in the review but preceeded or followed by some other words that suggest sarcastism. With our method, we will detect only the positive words but not considering the context of it. This might result in miss interpretation of the review. However, the scores give more powerful prediction partly because the scores of each feature is by itself related to the overall rating. It is unlikely that someone will give high scores on each feature but low score for the overall. There is still chance of misprediction because it could happen that someone give high scores to some features but low scores to others. It is then hard to predict the overall because we don't take into account of individual differences in the weights on each feature. "
   ]
  }
 ],
 "metadata": {
  "kernelspec": {
   "display_name": "Python 3",
   "language": "python",
   "name": "python3"
  },
  "language_info": {
   "codemirror_mode": {
    "name": "ipython",
    "version": 3
   },
   "file_extension": ".py",
   "mimetype": "text/x-python",
   "name": "python",
   "nbconvert_exporter": "python",
   "pygments_lexer": "ipython3",
   "version": "3.6.4"
  }
 },
 "nbformat": 4,
 "nbformat_minor": 2
}
