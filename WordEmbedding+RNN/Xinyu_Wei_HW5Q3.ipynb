{
 "cells": [
  {
   "cell_type": "markdown",
   "metadata": {},
   "source": [
    "# RNN for Predicting Characters"
   ]
  },
  {
   "cell_type": "code",
   "execution_count": 1,
   "metadata": {},
   "outputs": [
    {
     "name": "stderr",
     "output_type": "stream",
     "text": [
      "/software/Anaconda3-5.0.1-el7-x86_64/envs/DL_GPU_cuda_9.0/lib/python3.6/site-packages/h5py/__init__.py:36: FutureWarning: Conversion of the second argument of issubdtype from `float` to `np.floating` is deprecated. In future, it will be treated as `np.float64 == np.dtype(float).type`.\n",
      "  from ._conv import register_converters as _register_converters\n"
     ]
    }
   ],
   "source": [
    "import os\n",
    "import numpy as np\n",
    "import collections\n",
    "import pickle\n",
    "import argparse\n",
    "import tensorflow as tf\n",
    "import time\n",
    "import matplotlib.pyplot as plt\n",
    "%matplotlib inline"
   ]
  },
  {
   "cell_type": "code",
   "execution_count": 96,
   "metadata": {},
   "outputs": [],
   "source": [
    "parser = argparse.ArgumentParser()\n",
    "parser.add_argument('--data_dir', default='./')\n",
    "parser.add_argument('--save_dir', default='./')\n",
    "# Dimension of hidden layer variables h and c\n",
    "parser.add_argument('--num_units', default=128*2)\n",
    "parser.add_argument('--batch_size', default=64)\n",
    "# Number of steps in each batch for training\n",
    "parser.add_argument('--num_steps', default=75)\n",
    "parser.add_argument('--num_epochs', default=30)\n",
    "# Time step\n",
    "parser.add_argument('--lr', default=0.002)\n",
    "# Number of possible inputs/outputs \n",
    "parser.add_argument('--num_chars')\n",
    "parser.add_argument('--num_batches',default=20)\n",
    "args, unparsed = parser.parse_known_args()"
   ]
  },
  {
   "cell_type": "code",
   "execution_count": 97,
   "metadata": {},
   "outputs": [
    {
     "data": {
      "text/plain": [
       "Namespace(batch_size=64, data_dir='./', lr=0.002, num_batches=20, num_chars=None, num_epochs=30, num_steps=75, num_units=256, save_dir='./')"
      ]
     },
     "execution_count": 97,
     "metadata": {},
     "output_type": "execute_result"
    }
   ],
   "source": [
    "args"
   ]
  },
  {
   "cell_type": "code",
   "execution_count": 98,
   "metadata": {},
   "outputs": [
    {
     "data": {
      "text/plain": [
       "['-f',\n",
       " '/home/xinyuw/.local/share/jupyter/runtime/kernel-1cdfa667-8f3c-4d9c-af7e-5ed427250594.json']"
      ]
     },
     "execution_count": 98,
     "metadata": {},
     "output_type": "execute_result"
    }
   ],
   "source": [
    "unparsed"
   ]
  },
  {
   "cell_type": "code",
   "execution_count": 99,
   "metadata": {},
   "outputs": [],
   "source": [
    "def timer(start, end):\n",
    "    hrs, rem = divmod(end-start, 3600)\n",
    "    mins, secs = divmod(rem, 60)\n",
    "    print('{:0>2} hours {:0>2} minutes {:05.2f} seconds'.format(int(hrs), int(mins), secs))"
   ]
  },
  {
   "cell_type": "code",
   "execution_count": 100,
   "metadata": {},
   "outputs": [],
   "source": [
    "class TextLoader():\n",
    "\n",
    "    def __init__(self, data_dir, batch_size=64, seq_length=50, encoding='utf-8'):\n",
    "        self.data_dir = data_dir\n",
    "        self.encoding = encoding\n",
    "        self.batch_size = batch_size\n",
    "        self.seq_length = seq_length\n",
    "\n",
    "        self.input_file = os.path.join(data_dir, 'tinyshakespeare.txt')\n",
    "        self.vocab_file = os.path.join(data_dir, 'vocab.pkl')\n",
    "        # Numeric file of characters translated to indices.\n",
    "        self.tensor_file = os.path.join(data_dir, 'data.npy')\n",
    "        \n",
    "        if not (os.path.exists(self.vocab_file) and os.path.exists(self.tensor_file)):\n",
    "            print('it seems we havent processed the text data yet: reading the shakespear')\n",
    "            self.preprocess(self.input_file, self.vocab_file, self.tensor_file)\n",
    "        else:\n",
    "            print('there are preprocessed data - lets load it')\n",
    "            self.load_preprocessed(self.vocab_file, self.tensor_file)\n",
    "\n",
    "        self.create_batches()\n",
    "        self.reset_batch_pointer()\n",
    "\n",
    "    # Create numeric file.\n",
    "    def preprocess(self, input_file=None, vocab_file=None, tensor_file=None, saveit=True):\n",
    "        if input_file is not None:\n",
    "            self.input_file = input_file\n",
    "        if vocab_file is not None:\n",
    "            self.vocab_file = vocab_file\n",
    "        if tensor_file is not None:\n",
    "            self.tensor_file = tensor_file\n",
    "\n",
    "        with open(self.input_file, 'r') as f:\n",
    "            data = f.read()\n",
    "        #data = data.lower()\n",
    "        self.total_length = len(data)\n",
    "        counter = collections.Counter(data)\n",
    "        count_pairs = sorted(counter.items(), key=lambda x: -x[1])\n",
    "        self.chars, _ = zip(*count_pairs)\n",
    "        self.vocab_size = len(self.chars)\n",
    "        self.vocab_to_idx = dict(zip(self.chars, range(len(self.chars))))\n",
    "        self.idx_to_vocab = dict(zip(self.vocab_to_idx.values(), self.vocab_to_idx.keys()))\n",
    "\n",
    "        if saveit:\n",
    "            with open(self.vocab_file, 'wb') as f:  # saving dictionary so we don't compute it again\n",
    "                pickle.dump(self.chars, f)\n",
    "            self.tensor = np.array(list(map(self.vocab_to_idx.get, data)))\n",
    "            np.save(self.tensor_file, self.tensor)  # saving the numerified data\n",
    "    # Load numeric file create dictionaries for char2idx and back\n",
    "    def load_preprocessed(self, vocab_file=None, tensor_file=None):\n",
    "        if vocab_file is not None:\n",
    "            self.vocab_file = vocab_file\n",
    "        if tensor_file is not None:\n",
    "            self.tensor_file = tensor_file\n",
    "\n",
    "        with open(self.vocab_file, 'rb') as f:\n",
    "            self.chars = pickle.load(f)\n",
    "\n",
    "        # attributes\n",
    "        self.vocab_size = len(self.chars)\n",
    "        self.vocab = dict(zip(self.chars, range(self.vocab_size)))\n",
    "        self.vocab_to_idx = dict(zip(self.chars, range(len(self.chars))))\n",
    "        self.idx_to_vocab = dict(zip(self.vocab_to_idx.values(), self.vocab_to_idx.keys()))\n",
    "        self.tensor = np.load(tensor_file)\n",
    "        self.num_batches = int(self.tensor.size / (self.batch_size * self.seq_length))\n",
    "            \n",
    "    # tensor size = the length of the entire data sequence\n",
    "    # divide into batch_size sub sequences and stack\n",
    "    # cut those by seq_length to produce batches of [batch size, seq_length] sized examples\n",
    "    def create_batches(self):\n",
    "\n",
    "        \n",
    "        self.num_batches = int(self.tensor.size / (self.batch_size * self.seq_length))\n",
    "\n",
    "        if self.num_batches == 0:\n",
    "            assert False, 'Not enough data. Make seq_length and/or batch_size smaller'\n",
    "\n",
    "        self.tensor = self.tensor[:self.num_batches * self.batch_size * self.seq_length]  # so we get an even divide\n",
    "        xdata = self.tensor\n",
    "        ydata = np.copy(self.tensor)\n",
    "\n",
    "        # ydata is one step ahead of x and last item is first item of x \n",
    "        # to get sequences of same length    \n",
    "        ydata[:-1] = xdata[1:] \n",
    "        ydata[-1] = xdata[0]\n",
    "\n",
    "        self.x_batches = np.split(xdata.reshape(self.batch_size, -1), self.num_batches, 1)\n",
    "        self.y_batches = np.split(ydata.reshape(self.batch_size, -1), self.num_batches, 1)\n",
    "        \n",
    "        self.train_num_batches=np.int32(self.num_batches*.8)\n",
    "        self.test_num_batches=self.num_batches-self.train_num_batches\n",
    "        self.train_x_batches=self.x_batches[0:self.train_num_batches]\n",
    "        self.train_y_batches=self.y_batches[0:self.train_num_batches]\n",
    "        self.test_x_batches=self.x_batches[self.train_num_batches:]\n",
    "        self.test_y_batches=self.y_batches[self.train_num_batches:]\n",
    "\n",
    "        # xdata: L length\n",
    "        # xdata reshaped: batch_size, (L/batch_size) length following natural indexing\n",
    "        # np.split: into num batches batches along the width(sentence)\n",
    "\n",
    "    def next_batch_train(self):\n",
    "        x, y = self.train_x_batches[self.pointer], self.train_y_batches[self.pointer]\n",
    "        self.pointer += 1\n",
    "        return x,y\n",
    "    \n",
    "    def next_batch_test(self):\n",
    "        x, y = self.test_x_batches[self.pointer], self.test_y_batches[self.pointer]\n",
    "        self.pointer += 1\n",
    "        return x,y\n",
    "\n",
    "    def reset_batch_pointer(self):\n",
    "        self.pointer = 0"
   ]
  },
  {
   "cell_type": "code",
   "execution_count": 101,
   "metadata": {
    "scrolled": true
   },
   "outputs": [
    {
     "name": "stdout",
     "output_type": "stream",
     "text": [
      "there are preprocessed data - lets load it\n",
      "num chars 65\n",
      "num batches 232\n"
     ]
    }
   ],
   "source": [
    "loader = TextLoader(args.data_dir, batch_size=args.batch_size, seq_length=args.num_steps)\n",
    "args.num_chars = loader.vocab_size\n",
    "print('num chars',args.num_chars)\n",
    "print('num batches',loader.num_batches)"
   ]
  },
  {
   "cell_type": "code",
   "execution_count": 102,
   "metadata": {},
   "outputs": [
    {
     "data": {
      "text/plain": [
       "65"
      ]
     },
     "execution_count": 102,
     "metadata": {},
     "output_type": "execute_result"
    }
   ],
   "source": [
    "args.num_chars"
   ]
  },
  {
   "cell_type": "code",
   "execution_count": 103,
   "metadata": {},
   "outputs": [],
   "source": [
    "def network(myLSTMCell,inputs,targets):\n",
    "\n",
    "    with tf.variable_scope('embedding_matrix'):\n",
    "        embedding = tf.get_variable('embedding', [args.num_chars, args.num_units])\n",
    "        embedded_inputs = tf.nn.embedding_lookup(embedding, inputs)\n",
    "        inputs_list = tf.unstack(embedded_inputs, axis=1)  # shape: a list of [batch_size, num_units] length num_steps\n",
    "\n",
    "    with tf.variable_scope('LSTMCell') as myscope:\n",
    "        cell = myLSTMCell(args.num_units)\n",
    "        init_state = cell.zero_state(args.batch_size, tf.float32)\n",
    "        state = init_state\n",
    "        outputs = []\n",
    "\n",
    "        for time_, input in enumerate(inputs_list):\n",
    "            if time_ > 0:\n",
    "                myscope.reuse_variables()\n",
    "           \n",
    "            output, state = cell(input, state)\n",
    "            outputs.append(output)\n",
    "    # All hidden outputs for each batch and every step in the batch are reshaped\n",
    "    # as one long matrix to be transformed to logits and compared to targets.\n",
    "        output_reshaped = tf.reshape(tf.concat(outputs, 1), [-1, args.num_units])\n",
    "\n",
    "        final_state = state\n",
    "\n",
    "    with tf.variable_scope('regression'):\n",
    "        W = tf.get_variable('W', [args.num_units, args.num_chars])\n",
    "        b = tf.get_variable('b', [args.num_chars], initializer=tf.constant_initializer(0.0))\n",
    "        logits = tf.matmul(output_reshaped, W) + b\n",
    "        prob = tf.nn.softmax(logits)\n",
    "\n",
    "    with tf.variable_scope('cost'):\n",
    "        targets_straightened = tf.reshape(targets, [-1])\n",
    "        crossentropy = tf.nn.sparse_softmax_cross_entropy_with_logits(logits=logits, \n",
    "                                                    labels=targets_straightened)\n",
    "        loss = tf.reduce_mean(crossentropy)\n",
    "        cost = loss/args.batch_size/args.num_steps\n",
    "\n",
    "    with tf.variable_scope('optimizer'):\n",
    "        train_step = tf.train.AdamOptimizer(args.lr).minimize(loss)\n",
    "\n",
    "    with tf.variable_scope('saver'):\n",
    "        saver = tf.train.Saver()\n",
    "    return init_state, train_step, loss, final_state, saver, prob"
   ]
  },
  {
   "cell_type": "code",
   "execution_count": 104,
   "metadata": {},
   "outputs": [],
   "source": [
    "def trainer(myCell,num_batches=None):\n",
    "    \n",
    "    start_time = time.time()\n",
    "    tf.reset_default_graph()\n",
    "    # Define the placeholders\n",
    "    with tf.variable_scope('placeholders'):\n",
    "            inputs = tf.placeholder(tf.int32, [args.batch_size, args.num_steps])\n",
    "            targets = tf.placeholder(tf.int32, [args.batch_size, args.num_steps])\n",
    "    # Create the network\n",
    "    init_state, train_step, loss, final_state, saver, prob=network(myCell,inputs,targets)\n",
    "    print('train_num_batches',loader.train_num_batches)\n",
    "    \n",
    "    if (num_batches is None):\n",
    "        num_batches=loader.train_num_batches\n",
    "\n",
    "    with tf.Session() as sess:\n",
    "         \n",
    "        sess.run(tf.global_variables_initializer())\n",
    "        # computation graph for training\n",
    "        training_losses = []\n",
    "\n",
    "        for epoch in range(args.num_epochs):\n",
    "            loader.reset_batch_pointer()\n",
    "            state_ = sess.run(init_state)\n",
    "            training_loss = 0\n",
    "\n",
    "            for batch in range(num_batches):\n",
    "\n",
    "                x, y = loader.next_batch_train()\n",
    "\n",
    "                feed_dict = dict()\n",
    "                feed_dict[inputs] = x\n",
    "                feed_dict[targets] = y\n",
    "                \n",
    "                if ('RNN' in myCell.__name__):\n",
    "                    feed_dict[init_state] = state_\n",
    "                else:\n",
    "                    feed_dict[init_state.c] = state_.c\n",
    "                    feed_dict[init_state.h] = state_.h\n",
    "\n",
    "                train_loss_, state_, _ = sess.run([loss, final_state, train_step], feed_dict=feed_dict)\n",
    "                training_loss += train_loss_\n",
    "            training_loss=training_loss/num_batches\n",
    "            print('epoch:', epoch, 'loss:',  training_loss)\n",
    "            training_losses.append(training_loss)\n",
    "        saver.save(sess, os.path.join(args.save_dir, 'saved_model'))\n",
    "    \n",
    "    end_time = time.time()\n",
    "    \n",
    "    timer(start_time, end_time)\n",
    "    return(training_losses)"
   ]
  },
  {
   "cell_type": "code",
   "execution_count": 88,
   "metadata": {},
   "outputs": [],
   "source": [
    "def synthesize_example_sentences(cell):\n",
    "    print(\"*****Synthesizing: What is the meaning of life\\n\")\n",
    "    Synthesize(cell,\"What is the meaning of life\")\n",
    "    print(\"\\n*****Synthesizing: I will be king, or die.\\n\")\n",
    "    Synthesize(cell,\"I will be king, or die.\")\n",
    "    print(\"\\n*****Synthesizing: Most noble sir\\n\")\n",
    "    Synthesize(cell,\"Most noble sir\")\n",
    "    print(\"\\n*****Synthesizing: O my lord\\n\")\n",
    "    Synthesize(cell,\"O my lord\")\n",
    "    print(\"\\n*****Synthesizing: Farewell\\n\")\n",
    "    Synthesize(cell,\"Farewell\")"
   ]
  },
  {
   "cell_type": "markdown",
   "metadata": {},
   "source": [
    "# I. Experiment with Different Architectures"
   ]
  },
  {
   "cell_type": "markdown",
   "metadata": {},
   "source": [
    "## Basic LSTM"
   ]
  },
  {
   "cell_type": "code",
   "execution_count": 105,
   "metadata": {},
   "outputs": [],
   "source": [
    "LSTMStateTuple = collections.namedtuple(\"LSTMStateTuple\", (\"c\", \"h\"))\n",
    "\n",
    "class MyBasicLSTMCell(tf.contrib.rnn.BasicLSTMCell):\n",
    "\n",
    "    def build(self, inputs_shape):\n",
    "\n",
    "        input_depth = inputs_shape[1].value\n",
    "        self._kernel = self.add_variable(name=\"kernel\", shape=[input_depth + self._num_units, 4 * self._num_units])\n",
    "        self._bias = self.add_variable(name=\"bias\", shape=[4 * self._num_units], initializer=tf.zeros_initializer())\n",
    "\n",
    "        self.built = True\n",
    "\n",
    "    def call(self, inputs, state):\n",
    "\n",
    "        one = tf.constant(1, dtype=tf.int32)\n",
    "        c, h = state\n",
    "\n",
    "        gate_inputs = tf.matmul(tf.concat([inputs, h], axis=1), self._kernel) + self._bias\n",
    "\n",
    "        input_gate_weights, input_weights, forget_gate_weights, output_gate_weights = tf.split(\n",
    "            value=gate_inputs, num_or_size_splits=4, axis=one)\n",
    "\n",
    "        # forget gating\n",
    "        forget_bias_tensor = tf.constant(1.0, dtype=forget_gate_weights.dtype)\n",
    "        forget_gate = tf.sigmoid(forget_gate_weights + forget_bias_tensor)\n",
    "        gated_memory = c * forget_gate\n",
    "\n",
    "        # input gating\n",
    "        processed_new_input = tf.tanh(input_weights)\n",
    "        input_gate = tf.sigmoid(input_gate_weights)\n",
    "        gated_input = input_gate * processed_new_input\n",
    "\n",
    "        # updating memory\n",
    "        new_c = gated_memory + gated_input\n",
    "\n",
    "        # output gating\n",
    "        processed_memory = tf.tanh(new_c)\n",
    "        output_gate = tf.sigmoid(output_gate_weights)\n",
    "        new_h = processed_memory * output_gate\n",
    "\n",
    "        new_state = tf.nn.rnn_cell.LSTMStateTuple(new_c, new_h)\n",
    "\n",
    "        return new_h, new_state"
   ]
  },
  {
   "cell_type": "code",
   "execution_count": 106,
   "metadata": {
    "scrolled": false
   },
   "outputs": [
    {
     "name": "stdout",
     "output_type": "stream",
     "text": [
      "train_num_batches 185\n",
      "epoch: 0 loss: 2.3980559980547107\n",
      "epoch: 1 loss: 1.8184556213585106\n",
      "epoch: 2 loss: 1.651059239619487\n",
      "epoch: 3 loss: 1.5597178188530174\n",
      "epoch: 4 loss: 1.5010102967958192\n",
      "epoch: 5 loss: 1.45853025268864\n",
      "epoch: 6 loss: 1.424926512305801\n",
      "epoch: 7 loss: 1.3976229577451138\n",
      "epoch: 8 loss: 1.3754076397096788\n",
      "epoch: 9 loss: 1.3573355868056014\n",
      "epoch: 10 loss: 1.340587642386153\n",
      "epoch: 11 loss: 1.3258719482937376\n",
      "epoch: 12 loss: 1.312723396919869\n",
      "epoch: 13 loss: 1.3012037264334189\n",
      "epoch: 14 loss: 1.2910345779882895\n",
      "epoch: 15 loss: 1.2816276492299261\n",
      "epoch: 16 loss: 1.272867778829626\n",
      "epoch: 17 loss: 1.2651023387908935\n",
      "epoch: 18 loss: 1.2571350464949738\n",
      "epoch: 19 loss: 1.2494089004155753\n",
      "epoch: 20 loss: 1.242612115112511\n",
      "epoch: 21 loss: 1.2365489837285635\n",
      "epoch: 22 loss: 1.2309693574905396\n",
      "epoch: 23 loss: 1.2262815552788813\n",
      "epoch: 24 loss: 1.219398352262136\n",
      "epoch: 25 loss: 1.2137903484138282\n",
      "epoch: 26 loss: 1.2089055808814797\n",
      "epoch: 27 loss: 1.2049857171806129\n",
      "epoch: 28 loss: 1.2013669046195778\n",
      "epoch: 29 loss: 1.1987495609231897\n",
      "00 hours 04 minutes 19.19 seconds\n"
     ]
    }
   ],
   "source": [
    "re_lstm_basic = trainer(MyBasicLSTMCell)"
   ]
  },
  {
   "cell_type": "code",
   "execution_count": 107,
   "metadata": {
    "scrolled": true
   },
   "outputs": [
    {
     "data": {
      "text/plain": [
       "[<matplotlib.lines.Line2D at 0x7f4943788ac8>]"
      ]
     },
     "execution_count": 107,
     "metadata": {},
     "output_type": "execute_result"
    },
    {
     "data": {
      "image/png": "[encoded data removed]",
      "text/plain": [
       "<Figure size 432x288 with 1 Axes>"
      ]
     },
     "metadata": {},
     "output_type": "display_data"
    }
   ],
   "source": [
    "x = np.array(range(args.num_epochs))\n",
    "plt.plot(x, re_lstm_basic)"
   ]
  },
  {
   "cell_type": "code",
   "execution_count": 108,
   "metadata": {
    "scrolled": false
   },
   "outputs": [
    {
     "name": "stdout",
     "output_type": "stream",
     "text": [
      "there are preprocessed data - lets load it\n",
      "[39  5  1  7  1  0  4  7  1  0 15  3 13  0 20  3  9  8 20  0  2  3 12  4\n",
      " 15 44]\n",
      "INFO:tensorflow:Restoring parameters from saved_model\n",
      "num_batches 47\n",
      "test loss: 1.3974282107454665\n"
     ]
    },
    {
     "data": {
      "text/plain": [
       "1.3974282107454665"
      ]
     },
     "execution_count": 108,
     "metadata": {},
     "output_type": "execute_result"
    }
   ],
   "source": [
    "Tester(MyBasicLSTMCell)"
   ]
  },
  {
   "cell_type": "code",
   "execution_count": 109,
   "metadata": {},
   "outputs": [
    {
     "name": "stdout",
     "output_type": "stream",
     "text": [
      "*****Synthesizing: What is the meaning of life\n",
      "\n",
      "there are preprocessed data - lets load it\n",
      "[39  5  4  2  0  9  6  0  2  5  1  0 14  1  4  8  9  8 20  0  3 18  0 11\n",
      "  9 18  1]\n",
      "INFO:tensorflow:Restoring parameters from saved_model\n",
      "What is the meaning of lifer\n",
      "deficed with a success of my state and set her,\n",
      "With the condition, with a thought how to mean.\n",
      "An\n",
      "\n",
      "*****Synthesizing: I will be king, or die.\n",
      "\n",
      "there are preprocessed data - lets load it\n",
      "[21  0 17  9 11 11  0 22  1  0 28  9  8 20 16  0  3  7  0 12  9  1 25]\n",
      "INFO:tensorflow:Restoring parameters from saved_model\n",
      "I will be king, or die.\n",
      "\n",
      "LADY MONCA:\n",
      "It is breathe will be true to the same\n",
      "And then a strut, that I will be selush\n",
      "I think\n",
      "\n",
      "*****Synthesizing: Most noble sir\n",
      "\n",
      "there are preprocessed data - lets load it\n",
      "[42  3  6  2  0  8  3 22 11  1  0  6  9  7]\n",
      "INFO:tensorflow:Restoring parameters from saved_model\n",
      "Most noble sires.\n",
      "\n",
      "KATHARINA:\n",
      "'tis all things and tell me with their hound;\n",
      "With his prisoner thrown and that I wa\n",
      "\n",
      "*****Synthesizing: O my lord\n",
      "\n",
      "there are preprocessed data - lets load it\n",
      "[32  0 14 15  0 11  3  7 12]\n",
      "INFO:tensorflow:Restoring parameters from saved_model\n",
      "O my lord, and\n",
      "then blind from the winds, and so much and be a disgrace:\n",
      "Take his blame of her, once a sudden\n",
      "\n",
      "*****Synthesizing: Farewell\n",
      "\n",
      "there are preprocessed data - lets load it\n",
      "[49  4  7  1 17  1 11 11]\n",
      "INFO:tensorflow:Restoring parameters from saved_model\n",
      "Farewelly.\n",
      "\n",
      "SICINIUS:\n",
      "Where is thy son, we misear look'd you were husband?\n",
      "\n",
      "QUEEN ELIZABETH:\n",
      "I am as one had\n"
     ]
    }
   ],
   "source": [
    "synthesize_example_sentences(MyBasicLSTMCell)"
   ]
  },
  {
   "cell_type": "markdown",
   "metadata": {},
   "source": [
    "## Basic RNN"
   ]
  },
  {
   "cell_type": "code",
   "execution_count": 90,
   "metadata": {},
   "outputs": [],
   "source": [
    "class MyBasicRNNCell(tf.contrib.rnn.BasicRNNCell):\n",
    "\n",
    "    def build(self, inputs_shape):\n",
    "\n",
    "        input_depth = inputs_shape[1].value\n",
    "        \n",
    "        self._kernel = self.add_variable(name=\"kernel_hidden\", shape=[input_depth + self._num_units, self._num_units])\n",
    "        self._bias = self.add_variable(name=\"bias_hidden\", shape=[self._num_units], initializer=tf.zeros_initializer())\n",
    "        \n",
    "        self.built = True\n",
    "\n",
    "    def call(self, inputs, state):\n",
    "        \"\"\"Most basic RNN: output = new_state = act(W * input + U * state + B).\"\"\"\n",
    "        \n",
    "        output = tf.tanh(tf.matmul(tf.concat([inputs, state], 1), self._kernel) + self._bias)\n",
    "\n",
    "        return output, output"
   ]
  },
  {
   "cell_type": "code",
   "execution_count": 62,
   "metadata": {
    "scrolled": true
   },
   "outputs": [
    {
     "name": "stdout",
     "output_type": "stream",
     "text": [
      "train_num_batches 185\n",
      "epoch: 0 loss: 2.284122889106338\n",
      "epoch: 1 loss: 1.8354029578131599\n",
      "epoch: 2 loss: 1.689298420983392\n",
      "epoch: 3 loss: 1.6083256399309314\n",
      "epoch: 4 loss: 1.5571037956186242\n",
      "epoch: 5 loss: 1.5209539754970653\n",
      "epoch: 6 loss: 1.4940475676510785\n",
      "epoch: 7 loss: 1.4733178125845419\n",
      "epoch: 8 loss: 1.4564942952748892\n",
      "epoch: 9 loss: 1.442408570083412\n",
      "epoch: 10 loss: 1.4305852181202656\n",
      "epoch: 11 loss: 1.4205288661492836\n",
      "epoch: 12 loss: 1.4118538927387547\n",
      "epoch: 13 loss: 1.4042525620073885\n",
      "epoch: 14 loss: 1.3974538513132044\n",
      "epoch: 15 loss: 1.3913075479301247\n",
      "epoch: 16 loss: 1.385862127510277\n",
      "epoch: 17 loss: 1.3812280758007152\n",
      "epoch: 18 loss: 1.378029693139566\n",
      "epoch: 19 loss: 1.3749821282721855\n",
      "epoch: 20 loss: 1.3709494693859203\n",
      "epoch: 21 loss: 1.3671146425040992\n",
      "epoch: 22 loss: 1.3639348474708763\n",
      "epoch: 23 loss: 1.3606044066918863\n",
      "epoch: 24 loss: 1.3572446578257793\n",
      "epoch: 25 loss: 1.3544155604130512\n",
      "epoch: 26 loss: 1.352277794399777\n",
      "epoch: 27 loss: 1.3506291331471623\n",
      "epoch: 28 loss: 1.3490554551820497\n",
      "epoch: 29 loss: 1.3478270040976035\n",
      "00 hours 01 minutes 48.98 seconds\n"
     ]
    }
   ],
   "source": [
    "re_rnn_basic = trainer(MyBasicRNNCell)"
   ]
  },
  {
   "cell_type": "code",
   "execution_count": 64,
   "metadata": {
    "scrolled": false
   },
   "outputs": [
    {
     "data": {
      "text/plain": [
       "[<matplotlib.lines.Line2D at 0x7f49a12ca128>]"
      ]
     },
     "execution_count": 64,
     "metadata": {},
     "output_type": "execute_result"
    },
    {
     "data": {
      "image/png": "[encoded data removed]",
      "text/plain": [
       "<Figure size 432x288 with 1 Axes>"
      ]
     },
     "metadata": {},
     "output_type": "display_data"
    }
   ],
   "source": [
    "plt.plot(x, re_rnn_basic)"
   ]
  },
  {
   "cell_type": "code",
   "execution_count": 65,
   "metadata": {
    "scrolled": false
   },
   "outputs": [
    {
     "name": "stdout",
     "output_type": "stream",
     "text": [
      "there are preprocessed data - lets load it\n",
      "[39  5  1  7  1  0  4  7  1  0 15  3 13  0 20  3  9  8 20  0  2  3 12  4\n",
      " 15 44]\n",
      "INFO:tensorflow:Restoring parameters from saved_model\n",
      "num_batches 47\n",
      "test loss: 1.4651790679769312\n"
     ]
    },
    {
     "data": {
      "text/plain": [
       "1.4651790679769312"
      ]
     },
     "execution_count": 65,
     "metadata": {},
     "output_type": "execute_result"
    }
   ],
   "source": [
    "Tester(MyBasicRNNCell)"
   ]
  },
  {
   "cell_type": "code",
   "execution_count": 66,
   "metadata": {},
   "outputs": [
    {
     "name": "stdout",
     "output_type": "stream",
     "text": [
      "there are preprocessed data - lets load it\n",
      "[39  5  4  2  0  9  6  0  2  5  1  0 14  1  4  8  9  8 20  0  3 18  0 11\n",
      "  9 18  1]\n",
      "INFO:tensorflow:Restoring parameters from saved_model\n",
      "What is the meaning of lifedly and by a confoll'd.\n",
      "\n",
      "Clown:\n",
      "Would think of down to hear our lamentable death by the wise enterta\n"
     ]
    }
   ],
   "source": [
    "Synthesize(MyBasicRNNCell,\"What is the meaning of life\")"
   ]
  },
  {
   "cell_type": "code",
   "execution_count": 67,
   "metadata": {
    "scrolled": true
   },
   "outputs": [
    {
     "name": "stdout",
     "output_type": "stream",
     "text": [
      "there are preprocessed data - lets load it\n",
      "[21  0 17  9 11 11  0 22  1  0 28  9  8 20 16  0  3  7  0 12  9  1 25]\n",
      "INFO:tensorflow:Restoring parameters from saved_model\n",
      "I will be king, or die. Were it was befier thee was this such a sacred my base\n",
      "Than the seats.\n",
      "\n",
      "ANGELO:\n",
      "I serve me to this \n"
     ]
    }
   ],
   "source": [
    "Synthesize(MyBasicRNNCell,\"I will be king, or die.\")"
   ]
  },
  {
   "cell_type": "code",
   "execution_count": 68,
   "metadata": {
    "scrolled": true
   },
   "outputs": [
    {
     "name": "stdout",
     "output_type": "stream",
     "text": [
      "there are preprocessed data - lets load it\n",
      "[42  3  6  2  0  8  3 22 11  1  0  6  9  7]\n",
      "INFO:tensorflow:Restoring parameters from saved_model\n",
      "Most noble sirain when then. I was nembeath, and my father\n",
      "With too shall not be the soul son, by a say woman.\n",
      "\n",
      "BU\n"
     ]
    }
   ],
   "source": [
    "Synthesize(MyBasicRNNCell,\"Most noble sir\")"
   ]
  },
  {
   "cell_type": "code",
   "execution_count": 69,
   "metadata": {
    "scrolled": true
   },
   "outputs": [
    {
     "name": "stdout",
     "output_type": "stream",
     "text": [
      "there are preprocessed data - lets load it\n",
      "[32  0 14 15  0 11  3  7 12]\n",
      "INFO:tensorflow:Restoring parameters from saved_model\n",
      "O my lordy will now itself, as it weaps,\n",
      "As is that have some bring our part,\n",
      "That, to themsed\n",
      "We shall be co\n"
     ]
    }
   ],
   "source": [
    "Synthesize(MyBasicRNNCell,\"O my lord\")"
   ]
  },
  {
   "cell_type": "code",
   "execution_count": 70,
   "metadata": {
    "scrolled": true
   },
   "outputs": [
    {
     "name": "stdout",
     "output_type": "stream",
     "text": [
      "there are preprocessed data - lets load it\n",
      "[49  4  7  1 17  1 11 11]\n",
      "INFO:tensorflow:Restoring parameters from saved_model\n",
      "Farewelly to seat so, blood is he could seem's leave to the war ask, by the battle to be till but stink that\n"
     ]
    }
   ],
   "source": [
    "Synthesize(MyBasicRNNCell,\"Farewell\")"
   ]
  },
  {
   "cell_type": "markdown",
   "metadata": {},
   "source": [
    "## RNN - Same Number of Parameters with LSTM"
   ]
  },
  {
   "cell_type": "code",
   "execution_count": 81,
   "metadata": {
    "scrolled": true
   },
   "outputs": [
    {
     "name": "stdout",
     "output_type": "stream",
     "text": [
      "train_num_batches 185\n",
      "epoch: 0 loss: 2.239912706452447\n",
      "epoch: 1 loss: 1.7488350011206961\n",
      "epoch: 2 loss: 1.5976832454268997\n",
      "epoch: 3 loss: 1.5170083851427645\n",
      "epoch: 4 loss: 1.4667618687088426\n",
      "epoch: 5 loss: 1.4297380653587548\n",
      "epoch: 6 loss: 1.4017698178420195\n",
      "epoch: 7 loss: 1.3808817824801882\n",
      "epoch: 8 loss: 1.3634380392126135\n",
      "epoch: 9 loss: 1.3482475383861645\n",
      "epoch: 10 loss: 1.3358737874675441\n",
      "epoch: 11 loss: 1.326352324356904\n",
      "epoch: 12 loss: 1.3187180660866402\n",
      "epoch: 13 loss: 1.310089172543706\n",
      "epoch: 14 loss: 1.305751591759759\n",
      "epoch: 15 loss: 1.3049649412567552\n",
      "epoch: 16 loss: 1.3020512432665439\n",
      "epoch: 17 loss: 1.2951713098062052\n",
      "epoch: 18 loss: 1.2917612990817509\n",
      "epoch: 19 loss: 1.2895636043033085\n",
      "epoch: 20 loss: 1.2869207440195858\n",
      "epoch: 21 loss: 1.2815776528538885\n",
      "epoch: 22 loss: 1.2773529709996403\n",
      "epoch: 23 loss: 1.27542940152658\n",
      "epoch: 24 loss: 1.2735029040156185\n",
      "epoch: 25 loss: 1.2723869388167923\n",
      "epoch: 26 loss: 1.2713701112850293\n",
      "epoch: 27 loss: 1.2719327024511389\n",
      "epoch: 28 loss: 1.269668773702673\n",
      "epoch: 29 loss: 1.2661941373670422\n",
      "00 hours 02 minutes 54.04 seconds\n"
     ]
    }
   ],
   "source": [
    "re_rnn_4times_para = trainer(MyBasicRNNCell_4times_para)"
   ]
  },
  {
   "cell_type": "code",
   "execution_count": 82,
   "metadata": {},
   "outputs": [
    {
     "data": {
      "text/plain": [
       "[<matplotlib.lines.Line2D at 0x7f49a0061eb8>]"
      ]
     },
     "execution_count": 82,
     "metadata": {},
     "output_type": "execute_result"
    },
    {
     "data": {
      "image/png": "[encoded data removed]",
      "text/plain": [
       "<Figure size 432x288 with 1 Axes>"
      ]
     },
     "metadata": {},
     "output_type": "display_data"
    }
   ],
   "source": [
    "plt.plot(x, re_rnn_4times_para)"
   ]
  },
  {
   "cell_type": "code",
   "execution_count": 83,
   "metadata": {},
   "outputs": [
    {
     "name": "stdout",
     "output_type": "stream",
     "text": [
      "there are preprocessed data - lets load it\n",
      "[39  5  1  7  1  0  4  7  1  0 15  3 13  0 20  3  9  8 20  0  2  3 12  4\n",
      " 15 44]\n",
      "INFO:tensorflow:Restoring parameters from saved_model\n",
      "num_batches 47\n",
      "test loss: 1.4555537421652611\n"
     ]
    },
    {
     "data": {
      "text/plain": [
       "1.4555537421652611"
      ]
     },
     "execution_count": 83,
     "metadata": {},
     "output_type": "execute_result"
    }
   ],
   "source": [
    "Tester(MyBasicRNNCell_4times_para)"
   ]
  },
  {
   "cell_type": "code",
   "execution_count": 89,
   "metadata": {
    "scrolled": true
   },
   "outputs": [
    {
     "name": "stdout",
     "output_type": "stream",
     "text": [
      "*****Synthesizing: What is the meaning of life\n",
      "\n",
      "there are preprocessed data - lets load it\n",
      "[39  5  4  2  0  9  6  0  2  5  1  0 14  1  4  8  9  8 20  0  3 18  0 11\n",
      "  9 18  1]\n",
      "INFO:tensorflow:Restoring parameters from saved_model\n",
      "What is the meaning of lifed to do the prince\n",
      "Did not be no time, I'll go what hath take it ill,\n",
      "Who hath made myself home is t\n",
      "\n",
      "*****Synthesizing: I will be king, or die.\n",
      "\n",
      "there are preprocessed data - lets load it\n",
      "[21  0 17  9 11 11  0 22  1  0 28  9  8 20 16  0  3  7  0 12  9  1 25]\n",
      "INFO:tensorflow:Restoring parameters from saved_model\n",
      "I will be king, or die.\n",
      "\n",
      "ANGELO:\n",
      "'Tis we mocked thee\n",
      "Why shall keep him, a gravely to see a man to shal a man's language ma\n",
      "\n",
      "*****Synthesizing: Most noble sir\n",
      "\n",
      "there are preprocessed data - lets load it\n",
      "[42  3  6  2  0  8  3 22 11  1  0  6  9  7]\n",
      "INFO:tensorflow:Restoring parameters from saved_model\n",
      "Most noble sirah, I have bornes\n",
      "And bid my love, sir.\n",
      "\n",
      "DUCHESS OF YORK:\n",
      "An if this is their days and many tongue t\n",
      "\n",
      "*****Synthesizing: O my lord\n",
      "\n",
      "there are preprocessed data - lets load it\n",
      "[32  0 14 15  0 11  3  7 12]\n",
      "INFO:tensorflow:Restoring parameters from saved_model\n",
      "O my lordy, and thrifty to my pleasure\n",
      "As we should then we were not the peace, which is neither where I shou\n",
      "\n",
      "*****Synthesizing: Farewell\n",
      "\n",
      "there are preprocessed data - lets load it\n",
      "[49  4  7  1 17  1 11 11]\n",
      "INFO:tensorflow:Restoring parameters from saved_model\n",
      "Farewelly beg from whence tormused in such a good parting to her battle where I see it is not be satisfieth \n"
     ]
    }
   ],
   "source": [
    "synthesize_example_sentences(MyBasicRNNCell_4times_para)"
   ]
  },
  {
   "cell_type": "markdown",
   "metadata": {},
   "source": [
    "## RNN -  Two Internal Layers"
   ]
  },
  {
   "cell_type": "code",
   "execution_count": 112,
   "metadata": {},
   "outputs": [],
   "source": [
    "class MyBasicRNNCell_2internal_layers(tf.contrib.rnn.BasicRNNCell):\n",
    "\n",
    "    def build(self, inputs_shape):\n",
    "\n",
    "        input_depth = inputs_shape[1].value\n",
    "        \n",
    "        self._kernel = self.add_variable(name=\"kernel_hidden\", shape=[input_depth + self._num_units, 2*self._num_units])\n",
    "        self._bias = self.add_variable(name=\"bias_hidden\", shape=[2*self._num_units], initializer=tf.zeros_initializer())\n",
    "        \n",
    "        self.built = True\n",
    "\n",
    "    def call(self, inputs, state):\n",
    "        \"\"\"Most basic RNN: output = new_state = act(W * input + U * state + B).\"\"\"\n",
    "        one = tf.constant(1, dtype=tf.int32)\n",
    "        \n",
    "        layers = tf.matmul(tf.concat([inputs, state], 1), self._kernel) + self._bias\n",
    "        layer1, layer2 = tf.split(value=layers, num_or_size_splits=2, axis=one)\n",
    "        \n",
    "        output = tf.tanh(layer1 + layer2)\n",
    "        \n",
    "        return output, output"
   ]
  },
  {
   "cell_type": "code",
   "execution_count": 113,
   "metadata": {
    "scrolled": true
   },
   "outputs": [
    {
     "name": "stdout",
     "output_type": "stream",
     "text": [
      "train_num_batches 185\n",
      "epoch: 0 loss: 2.2272464114266475\n",
      "epoch: 1 loss: 1.7737798748789606\n",
      "epoch: 2 loss: 1.6404084418271039\n",
      "epoch: 3 loss: 1.5698968204292092\n",
      "epoch: 4 loss: 1.5259283735945417\n",
      "epoch: 5 loss: 1.4960907865214992\n",
      "epoch: 6 loss: 1.4746330209680505\n",
      "epoch: 7 loss: 1.4586611612423046\n",
      "epoch: 8 loss: 1.446395680711076\n",
      "epoch: 9 loss: 1.437072643718204\n",
      "epoch: 10 loss: 1.4295798359690486\n",
      "epoch: 11 loss: 1.423808409716632\n",
      "epoch: 12 loss: 1.4171869542147661\n",
      "epoch: 13 loss: 1.411902405120231\n",
      "epoch: 14 loss: 1.4072446771570155\n",
      "epoch: 15 loss: 1.4043807880298511\n",
      "epoch: 16 loss: 1.4008495846310178\n",
      "epoch: 17 loss: 1.3982186130575232\n",
      "epoch: 18 loss: 1.3954141681258743\n",
      "epoch: 19 loss: 1.3941678549792316\n",
      "epoch: 20 loss: 1.3924343714842926\n",
      "epoch: 21 loss: 1.3922932263967154\n",
      "epoch: 22 loss: 1.3908695659121952\n",
      "epoch: 23 loss: 1.3889292652542526\n",
      "epoch: 24 loss: 1.3874610076079497\n",
      "epoch: 25 loss: 1.3857265453080874\n",
      "epoch: 26 loss: 1.3852910467096278\n",
      "epoch: 27 loss: 1.3855447910927436\n",
      "epoch: 28 loss: 1.385339489498654\n",
      "epoch: 29 loss: 1.3846998137396735\n",
      "00 hours 02 minutes 27.24 seconds\n"
     ]
    }
   ],
   "source": [
    "re_rnn_2internal_layers = trainer(MyBasicRNNCell_2internal_layers)"
   ]
  },
  {
   "cell_type": "code",
   "execution_count": 114,
   "metadata": {
    "scrolled": true
   },
   "outputs": [
    {
     "data": {
      "text/plain": [
       "[<matplotlib.lines.Line2D at 0x7f49a113a5f8>]"
      ]
     },
     "execution_count": 114,
     "metadata": {},
     "output_type": "execute_result"
    },
    {
     "data": {
      "image/png": "[encoded data removed]",
      "text/plain": [
       "<Figure size 432x288 with 1 Axes>"
      ]
     },
     "metadata": {},
     "output_type": "display_data"
    }
   ],
   "source": [
    "plt.plot(x, re_rnn_2internal_layers)"
   ]
  },
  {
   "cell_type": "code",
   "execution_count": 115,
   "metadata": {
    "scrolled": false
   },
   "outputs": [
    {
     "name": "stdout",
     "output_type": "stream",
     "text": [
      "there are preprocessed data - lets load it\n",
      "[39  5  1  7  1  0  4  7  1  0 15  3 13  0 20  3  9  8 20  0  2  3 12  4\n",
      " 15 44]\n",
      "INFO:tensorflow:Restoring parameters from saved_model\n",
      "num_batches 47\n",
      "test loss: 1.4672466643313145\n"
     ]
    },
    {
     "data": {
      "text/plain": [
       "1.4672466643313145"
      ]
     },
     "execution_count": 115,
     "metadata": {},
     "output_type": "execute_result"
    }
   ],
   "source": [
    "Tester(MyBasicRNNCell_2internal_layers)"
   ]
  },
  {
   "cell_type": "code",
   "execution_count": 116,
   "metadata": {},
   "outputs": [
    {
     "name": "stdout",
     "output_type": "stream",
     "text": [
      "*****Synthesizing: What is the meaning of life\n",
      "\n",
      "there are preprocessed data - lets load it\n",
      "[39  5  4  2  0  9  6  0  2  5  1  0 14  1  4  8  9  8 20  0  3 18  0 11\n",
      "  9 18  1]\n",
      "INFO:tensorflow:Restoring parameters from saved_model\n",
      "What is the meaning of lifer--\n",
      "Ah, hope--\n",
      "Shamed and son,\n",
      "And spoken a true our lips\n",
      "We should need.\n",
      "\n",
      "POLIXENES:\n",
      "O side, and be\n",
      "\n",
      "*****Synthesizing: I will be king, or die.\n",
      "\n",
      "there are preprocessed data - lets load it\n",
      "[21  0 17  9 11 11  0 22  1  0 28  9  8 20 16  0  3  7  0 12  9  1 25]\n",
      "INFO:tensorflow:Restoring parameters from saved_model\n",
      "I will be king, or die. Why there do not but see the part o' the partic in this child-body we through thy life than be tear\n",
      "\n",
      "*****Synthesizing: Most noble sir\n",
      "\n",
      "there are preprocessed data - lets load it\n",
      "[42  3  6  2  0  8  3 22 11  1  0  6  9  7]\n",
      "INFO:tensorflow:Restoring parameters from saved_model\n",
      "Most noble sirah, the bonden the world bettard on him till me to the wars any\n",
      "And the privose\n",
      "Without myself\n",
      "Becom\n",
      "\n",
      "*****Synthesizing: O my lord\n",
      "\n",
      "there are preprocessed data - lets load it\n",
      "[32  0 14 15  0 11  3  7 12]\n",
      "INFO:tensorflow:Restoring parameters from saved_model\n",
      "O my lord are all clark'd by humble change.\n",
      "\n",
      "AUTOLYCUS:\n",
      "If he so,\n",
      "This way an he is, this is a brother sight \n",
      "\n",
      "*****Synthesizing: Farewell\n",
      "\n",
      "there are preprocessed data - lets load it\n",
      "[49  4  7  1 17  1 11 11]\n",
      "INFO:tensorflow:Restoring parameters from saved_model\n",
      "Farewelly to mume, to-don which is but we will be myself and to the sons it sens, without to be thy bonded a\n"
     ]
    }
   ],
   "source": [
    "synthesize_example_sentences(MyBasicRNNCell_2internal_layers)"
   ]
  },
  {
   "cell_type": "markdown",
   "metadata": {},
   "source": [
    "## RNN - Two Internal Layers & Increased Number of Parameters"
   ]
  },
  {
   "cell_type": "code",
   "execution_count": 92,
   "metadata": {
    "scrolled": true
   },
   "outputs": [
    {
     "name": "stdout",
     "output_type": "stream",
     "text": [
      "train_num_batches 185\n",
      "epoch: 0 loss: 2.4628151597203436\n",
      "epoch: 1 loss: 1.90380372485599\n",
      "epoch: 2 loss: 1.7446552920985867\n",
      "epoch: 3 loss: 1.6610105546745093\n",
      "epoch: 4 loss: 1.6015865577233803\n",
      "epoch: 5 loss: 1.5705806803058933\n",
      "epoch: 6 loss: 1.5397926208135244\n",
      "epoch: 7 loss: 1.5148035332963274\n",
      "epoch: 8 loss: 1.4980338289931014\n",
      "epoch: 9 loss: 1.4853885090028918\n",
      "epoch: 10 loss: 1.4776260891476194\n",
      "epoch: 11 loss: 1.4684570016087712\n",
      "epoch: 12 loss: 1.461190121238296\n",
      "epoch: 13 loss: 1.4559758282996513\n",
      "epoch: 14 loss: 1.4509213060946078\n",
      "epoch: 15 loss: 1.4462822005555436\n",
      "epoch: 16 loss: 1.441060896821924\n",
      "epoch: 17 loss: 1.4381781217214225\n",
      "epoch: 18 loss: 1.434085427103816\n",
      "epoch: 19 loss: 1.4319981916530713\n",
      "epoch: 20 loss: 1.4294467706938048\n",
      "epoch: 21 loss: 1.427404953982379\n",
      "epoch: 22 loss: 1.4257868528366089\n",
      "epoch: 23 loss: 1.422520105903213\n",
      "epoch: 24 loss: 1.420979416692579\n",
      "epoch: 25 loss: 1.4201048863900674\n",
      "epoch: 26 loss: 1.4185486084706074\n",
      "epoch: 27 loss: 1.4219837272489393\n",
      "epoch: 28 loss: 1.4199533359424488\n",
      "epoch: 29 loss: 1.420772918494972\n",
      "00 hours 04 minutes 44.51 seconds\n"
     ]
    }
   ],
   "source": [
    "re_rnn_2internal_layers_4times_para = trainer(MyBasicRNNCell_2internal_layers_4times_para)"
   ]
  },
  {
   "cell_type": "code",
   "execution_count": 93,
   "metadata": {},
   "outputs": [
    {
     "data": {
      "text/plain": [
       "[<matplotlib.lines.Line2D at 0x7f49a22be278>]"
      ]
     },
     "execution_count": 93,
     "metadata": {},
     "output_type": "execute_result"
    },
    {
     "data": {
      "image/png": "[encoded data removed]",
      "text/plain": [
       "<Figure size 432x288 with 1 Axes>"
      ]
     },
     "metadata": {},
     "output_type": "display_data"
    }
   ],
   "source": [
    "plt.plot(x, re_rnn_2internal_layers_4times_para)"
   ]
  },
  {
   "cell_type": "code",
   "execution_count": 94,
   "metadata": {
    "scrolled": true
   },
   "outputs": [
    {
     "name": "stdout",
     "output_type": "stream",
     "text": [
      "there are preprocessed data - lets load it\n",
      "[39  5  1  7  1  0  4  7  1  0 15  3 13  0 20  3  9  8 20  0  2  3 12  4\n",
      " 15 44]\n",
      "INFO:tensorflow:Restoring parameters from saved_model\n",
      "num_batches 47\n",
      "test loss: 1.4881689091946215\n"
     ]
    },
    {
     "data": {
      "text/plain": [
       "1.4881689091946215"
      ]
     },
     "execution_count": 94,
     "metadata": {},
     "output_type": "execute_result"
    }
   ],
   "source": [
    "Tester(MyBasicRNNCell_2internal_layers_4times_para)"
   ]
  },
  {
   "cell_type": "code",
   "execution_count": 95,
   "metadata": {},
   "outputs": [
    {
     "name": "stdout",
     "output_type": "stream",
     "text": [
      "*****Synthesizing: What is the meaning of life\n",
      "\n",
      "there are preprocessed data - lets load it\n",
      "[39  5  4  2  0  9  6  0  2  5  1  0 14  1  4  8  9  8 20  0  3 18  0 11\n",
      "  9 18  1]\n",
      "INFO:tensorflow:Restoring parameters from saved_model\n",
      "What is the meaning of lifess.\n",
      "\n",
      "BIONDALLIUS:\n",
      "I have\n",
      "be the banos, the door sea,\n",
      "When he is a secreath, and to think, whose brot\n",
      "\n",
      "*****Synthesizing: I will be king, or die.\n",
      "\n",
      "there are preprocessed data - lets load it\n",
      "[21  0 17  9 11 11  0 22  1  0 28  9  8 20 16  0  3  7  0 12  9  1 25]\n",
      "INFO:tensorflow:Restoring parameters from saved_model\n",
      "I will be king, or die. What watch ye was alack'd, best to the day, that these possess, beseech you as he shall shade of th\n",
      "\n",
      "*****Synthesizing: Most noble sir\n",
      "\n",
      "there are preprocessed data - lets load it\n",
      "[42  3  6  2  0  8  3 22 11  1  0  6  9  7]\n",
      "INFO:tensorflow:Restoring parameters from saved_model\n",
      "Most noble sirow: that he is not to seen yet your soul that honest was, many thee.\n",
      "\n",
      "AEd OVELA:\n",
      "The brave and blood\n",
      "\n",
      "*****Synthesizing: O my lord\n",
      "\n",
      "there are preprocessed data - lets load it\n",
      "[32  0 14 15  0 11  3  7 12]\n",
      "INFO:tensorflow:Restoring parameters from saved_model\n",
      "O my lordone is them sich hery with attends, than hould to they well him at this doth hate is the street.\n",
      "\n",
      "KI\n",
      "\n",
      "*****Synthesizing: Farewell\n",
      "\n",
      "there are preprocessed data - lets load it\n",
      "[49  4  7  1 17  1 11 11]\n",
      "INFO:tensorflow:Restoring parameters from saved_model\n",
      "Farewelless and to tends, then, tell his father,\n",
      "To the book him to me we were the blood and hard of you, si\n"
     ]
    }
   ],
   "source": [
    "synthesize_example_sentences(MyBasicRNNCell_2internal_layers_4times_para)"
   ]
  },
  {
   "cell_type": "markdown",
   "metadata": {},
   "source": [
    "## LSTM - Coupled Forget and Input Gates"
   ]
  },
  {
   "cell_type": "code",
   "execution_count": 117,
   "metadata": {},
   "outputs": [],
   "source": [
    "LSTMStateTuple = collections.namedtuple(\"LSTMStateTuple\", (\"c\", \"h\"))\n",
    "\n",
    "class LSTM_coupled_gates(tf.contrib.rnn.BasicLSTMCell):\n",
    "\n",
    "    def build(self, inputs_shape):\n",
    "\n",
    "        input_depth = inputs_shape[1].value\n",
    "        self._kernel = self.add_variable(name=\"kernel\", shape=[input_depth + self._num_units, 3 * self._num_units])\n",
    "        self._bias = self.add_variable(name=\"bias\", shape=[3 * self._num_units], initializer=tf.zeros_initializer())\n",
    "\n",
    "        self.built = True\n",
    "\n",
    "    def call(self, inputs, state):\n",
    "\n",
    "        one = tf.constant(1, dtype=tf.int32)\n",
    "        c, h = state\n",
    "\n",
    "        gate_inputs = tf.matmul(tf.concat([inputs, h], axis=1), self._kernel) + self._bias\n",
    "\n",
    "        forget_gate_weights, input_weights, output_gate_weights = tf.split(\n",
    "            value=gate_inputs, num_or_size_splits=3, axis=one)\n",
    "\n",
    "        # forget gating\n",
    "        forget_bias_tensor = tf.constant(1.0, dtype=forget_gate_weights.dtype)\n",
    "        forget_gate = tf.sigmoid(forget_gate_weights + forget_bias_tensor)\n",
    "        gated_memory = c * forget_gate\n",
    "\n",
    "        # input gating\n",
    "        processed_new_input = tf.tanh(input_weights)\n",
    "        input_gate = 1- forget_gate\n",
    "        gated_input = input_gate * processed_new_input\n",
    "\n",
    "        # updating memory\n",
    "        new_c = gated_memory + gated_input\n",
    "\n",
    "        # output gating\n",
    "        processed_memory = tf.tanh(new_c)\n",
    "        output_gate = tf.sigmoid(output_gate_weights)\n",
    "        new_h = processed_memory * output_gate\n",
    "\n",
    "        new_state = tf.nn.rnn_cell.LSTMStateTuple(new_c, new_h)\n",
    "\n",
    "        return new_h, new_state"
   ]
  },
  {
   "cell_type": "code",
   "execution_count": 118,
   "metadata": {
    "scrolled": true
   },
   "outputs": [
    {
     "name": "stdout",
     "output_type": "stream",
     "text": [
      "train_num_batches 185\n",
      "epoch: 0 loss: 2.409353798788947\n",
      "epoch: 1 loss: 1.7852047185640076\n",
      "epoch: 2 loss: 1.5993500838408599\n",
      "epoch: 3 loss: 1.5059271168064428\n",
      "epoch: 4 loss: 1.4488819637814083\n",
      "epoch: 5 loss: 1.4099241765769752\n",
      "epoch: 6 loss: 1.3796351825868762\n",
      "epoch: 7 loss: 1.3550755861643198\n",
      "epoch: 8 loss: 1.3352400689511685\n",
      "epoch: 9 loss: 1.3185839317940378\n",
      "epoch: 10 loss: 1.3043541843826707\n",
      "epoch: 11 loss: 1.292736376942815\n",
      "epoch: 12 loss: 1.2817442861763206\n",
      "epoch: 13 loss: 1.2705455309635885\n",
      "epoch: 14 loss: 1.2613933247488898\n",
      "epoch: 15 loss: 1.2536882316744005\n",
      "epoch: 16 loss: 1.2444923858384829\n",
      "epoch: 17 loss: 1.2366484732241243\n",
      "epoch: 18 loss: 1.2301244967692606\n",
      "epoch: 19 loss: 1.225012719309008\n",
      "epoch: 20 loss: 1.2214184754603619\n",
      "epoch: 21 loss: 1.2191382040848604\n",
      "epoch: 22 loss: 1.2149888090185217\n",
      "epoch: 23 loss: 1.2090783911782341\n",
      "epoch: 24 loss: 1.2044905011718336\n",
      "epoch: 25 loss: 1.2013151890522724\n",
      "epoch: 26 loss: 1.1981754006566228\n",
      "epoch: 27 loss: 1.1933747536427266\n",
      "epoch: 28 loss: 1.189499704257862\n",
      "epoch: 29 loss: 1.1879632105698457\n",
      "00 hours 03 minutes 54.06 seconds\n"
     ]
    }
   ],
   "source": [
    "re_lstm_coupled_gates = trainer(LSTM_coupled_gates)"
   ]
  },
  {
   "cell_type": "code",
   "execution_count": 119,
   "metadata": {},
   "outputs": [
    {
     "data": {
      "text/plain": [
       "[<matplotlib.lines.Line2D at 0x7f4964425518>]"
      ]
     },
     "execution_count": 119,
     "metadata": {},
     "output_type": "execute_result"
    },
    {
     "data": {
      "image/png": "[encoded data removed]",
      "text/plain": [
       "<Figure size 432x288 with 1 Axes>"
      ]
     },
     "metadata": {},
     "output_type": "display_data"
    }
   ],
   "source": [
    "plt.plot(x, re_lstm_coupled_gates)"
   ]
  },
  {
   "cell_type": "code",
   "execution_count": 120,
   "metadata": {
    "scrolled": false
   },
   "outputs": [
    {
     "name": "stdout",
     "output_type": "stream",
     "text": [
      "there are preprocessed data - lets load it\n",
      "[39  5  1  7  1  0  4  7  1  0 15  3 13  0 20  3  9  8 20  0  2  3 12  4\n",
      " 15 44]\n",
      "INFO:tensorflow:Restoring parameters from saved_model\n",
      "num_batches 47\n",
      "test loss: 1.4013547973429903\n"
     ]
    },
    {
     "data": {
      "text/plain": [
       "1.4013547973429903"
      ]
     },
     "execution_count": 120,
     "metadata": {},
     "output_type": "execute_result"
    }
   ],
   "source": [
    "Tester(LSTM_coupled_gates)"
   ]
  },
  {
   "cell_type": "code",
   "execution_count": 121,
   "metadata": {},
   "outputs": [
    {
     "name": "stdout",
     "output_type": "stream",
     "text": [
      "*****Synthesizing: What is the meaning of life\n",
      "\n",
      "there are preprocessed data - lets load it\n",
      "[39  5  4  2  0  9  6  0  2  5  1  0 14  1  4  8  9  8 20  0  3 18  0 11\n",
      "  9 18  1]\n",
      "INFO:tensorflow:Restoring parameters from saved_model\n",
      "What is the meaning of lifed immartive;\n",
      "For I will, nothing on him three homaly\n",
      "That I might here one an old curtain'd to heart\n",
      "\n",
      "*****Synthesizing: I will be king, or die.\n",
      "\n",
      "there are preprocessed data - lets load it\n",
      "[21  0 17  9 11 11  0 22  1  0 28  9  8 20 16  0  3  7  0 12  9  1 25]\n",
      "INFO:tensorflow:Restoring parameters from saved_model\n",
      "I will be king, or die.\n",
      "\n",
      "QUEEN ELIZABETH:\n",
      "What is that doth he that said what thou hast,\n",
      "Cast one shorted damnedy.\n",
      "In grave\n",
      "\n",
      "*****Synthesizing: Most noble sir\n",
      "\n",
      "there are preprocessed data - lets load it\n",
      "[42  3  6  2  0  8  3 22 11  1  0  6  9  7]\n",
      "INFO:tensorflow:Restoring parameters from saved_model\n",
      "Most noble sirs,\n",
      "So sworn their suffing to decorue your house\n",
      "With mends upon the throngs and mercy as it,\n",
      "Want as\n",
      "\n",
      "*****Synthesizing: O my lord\n",
      "\n",
      "there are preprocessed data - lets load it\n",
      "[32  0 14 15  0 11  3  7 12]\n",
      "INFO:tensorflow:Restoring parameters from saved_model\n",
      "O my lordom\n",
      "Because their state and my daughter's lengrest\n",
      "Cleased with thy light--sheep'd the charity,\n",
      "And b\n",
      "\n",
      "*****Synthesizing: Farewell\n",
      "\n",
      "there are preprocessed data - lets load it\n",
      "[49  4  7  1 17  1 11 11]\n",
      "INFO:tensorflow:Restoring parameters from saved_model\n",
      "Farewellow;\n",
      "And therefore being such heads; a contrace our parting\n",
      "And ne'er lace my honour threaded that to\n"
     ]
    }
   ],
   "source": [
    "synthesize_example_sentences(LSTM_coupled_gates)"
   ]
  },
  {
   "cell_type": "markdown",
   "metadata": {},
   "source": [
    "## LSTM - Gated Recurrent Unit, or GRU"
   ]
  },
  {
   "cell_type": "code",
   "execution_count": 51,
   "metadata": {},
   "outputs": [],
   "source": [
    "LSTMStateTuple = collections.namedtuple(\"LSTMStateTuple\", (\"c\", \"h\"))\n",
    "\n",
    "class LSTMCell_GRU(tf.contrib.rnn.BasicLSTMCell):\n",
    "\n",
    "    def build(self, inputs_shape):\n",
    "\n",
    "        input_depth = inputs_shape[1].value\n",
    "        self._kernel = self.add_variable(name=\"kernel\", shape=[input_depth + self._num_units, 2 * self._num_units])\n",
    "        self._bias = self.add_variable(name=\"bias\", shape=[2 * self._num_units], initializer=tf.zeros_initializer())\n",
    "\n",
    "        self._kernel2 = self.add_variable(name=\"kernel2\", shape=[input_depth + self._num_units, self._num_units])\n",
    "        self._bias2 = self.add_variable(name=\"bias2\", shape=[self._num_units], initializer=tf.zeros_initializer())\n",
    "        \n",
    "        self.built = True\n",
    "\n",
    "    def call(self, inputs, state):\n",
    "\n",
    "        one = tf.constant(1, dtype=tf.int32)\n",
    "        c, h = state\n",
    "        c = h\n",
    "        \n",
    "        gate_inputs = tf.matmul(tf.concat([inputs, h], axis=1), self._kernel) + self._bias\n",
    "\n",
    "        z_weights, r_weights = tf.split(value=gate_inputs, num_or_size_splits=2, axis=one)\n",
    "        z = tf.sigmoid(z_weights)\n",
    "        r = tf.sigmoid(r_weights)\n",
    "        \n",
    "        h_weights = tf.matmul(tf.concat([inputs, r*c], axis=1), self._kernel2) + self._bias2\n",
    "        h_hat = tf.tanh(h_weights)\n",
    "        \n",
    "        new_h = (1-z) * h + z*h_hat\n",
    "        new_c = new_h\n",
    "        \n",
    "        new_state = tf.nn.rnn_cell.LSTMStateTuple(new_c, new_h)\n",
    "\n",
    "        return new_h, new_state"
   ]
  },
  {
   "cell_type": "code",
   "execution_count": 52,
   "metadata": {
    "scrolled": true
   },
   "outputs": [
    {
     "name": "stdout",
     "output_type": "stream",
     "text": [
      "train_num_batches 185\n",
      "epoch: 0 loss: 2.355442088359111\n",
      "epoch: 1 loss: 1.7596241261508014\n",
      "epoch: 2 loss: 1.5759504646868319\n",
      "epoch: 3 loss: 1.4850551012400035\n",
      "epoch: 4 loss: 1.428617400736422\n",
      "epoch: 5 loss: 1.3893563483212445\n",
      "epoch: 6 loss: 1.3598877410630923\n",
      "epoch: 7 loss: 1.336328884073206\n",
      "epoch: 8 loss: 1.3159074809100177\n",
      "epoch: 9 loss: 1.2987315867398237\n",
      "epoch: 10 loss: 1.2845142706020458\n",
      "epoch: 11 loss: 1.2701163259712425\n",
      "epoch: 12 loss: 1.2577105947442957\n",
      "epoch: 13 loss: 1.246971026626793\n",
      "epoch: 14 loss: 1.2383390317092071\n",
      "epoch: 15 loss: 1.2306140242396175\n",
      "epoch: 16 loss: 1.2207888345460634\n",
      "epoch: 17 loss: 1.212768757021105\n",
      "epoch: 18 loss: 1.206324323447975\n",
      "epoch: 19 loss: 1.2014731677802832\n",
      "epoch: 20 loss: 1.1986860185056118\n",
      "epoch: 21 loss: 1.1985458876635577\n",
      "epoch: 22 loss: 1.1966996392688236\n",
      "epoch: 23 loss: 1.1934569661681715\n",
      "epoch: 24 loss: 1.1897458327783121\n",
      "epoch: 25 loss: 1.1862132413967235\n",
      "epoch: 26 loss: 1.182631953342541\n",
      "epoch: 27 loss: 1.1798216665113295\n",
      "epoch: 28 loss: 1.1765708949114826\n",
      "epoch: 29 loss: 1.1740891553260184\n",
      "00 hours 04 minutes 43.16 seconds\n"
     ]
    }
   ],
   "source": [
    "re_lstm_gru = trainer(LSTMCell_GRU)"
   ]
  },
  {
   "cell_type": "code",
   "execution_count": 53,
   "metadata": {
    "scrolled": true
   },
   "outputs": [
    {
     "data": {
      "text/plain": [
       "[<matplotlib.lines.Line2D at 0x7f496dfe40b8>]"
      ]
     },
     "execution_count": 53,
     "metadata": {},
     "output_type": "execute_result"
    },
    {
     "data": {
      "image/png": "[encoded data removed]",
      "text/plain": [
       "<Figure size 432x288 with 1 Axes>"
      ]
     },
     "metadata": {},
     "output_type": "display_data"
    }
   ],
   "source": [
    "plt.plot(x, re_lstm_gru)"
   ]
  },
  {
   "cell_type": "code",
   "execution_count": 55,
   "metadata": {},
   "outputs": [
    {
     "name": "stdout",
     "output_type": "stream",
     "text": [
      "there are preprocessed data - lets load it\n",
      "[39  5  1  7  1  0  4  7  1  0 15  3 13  0 20  3  9  8 20  0  2  3 12  4\n",
      " 15 44]\n",
      "INFO:tensorflow:Restoring parameters from saved_model\n",
      "num_batches 47\n",
      "test loss: 1.4563161895630208\n"
     ]
    },
    {
     "data": {
      "text/plain": [
       "1.4563161895630208"
      ]
     },
     "execution_count": 55,
     "metadata": {},
     "output_type": "execute_result"
    }
   ],
   "source": [
    "Tester(LSTMCell_GRU)"
   ]
  },
  {
   "cell_type": "code",
   "execution_count": 56,
   "metadata": {
    "scrolled": true
   },
   "outputs": [
    {
     "name": "stdout",
     "output_type": "stream",
     "text": [
      "there are preprocessed data - lets load it\n",
      "[39  5  4  2  0  9  6  0  2  5  1  0 14  1  4  8  9  8 20  0  3 18  0 11\n",
      "  9 18  1]\n",
      "INFO:tensorflow:Restoring parameters from saved_model\n",
      "What is the meaning of lifen of his\n",
      "blutes fierces, be the shade of mind\n",
      "What issue in thyself to make thee, have the wretest\n",
      "I\n"
     ]
    }
   ],
   "source": [
    "Synthesize(LSTMCell_GRU,\"What is the meaning of life\")"
   ]
  },
  {
   "cell_type": "code",
   "execution_count": 57,
   "metadata": {
    "scrolled": true
   },
   "outputs": [
    {
     "name": "stdout",
     "output_type": "stream",
     "text": [
      "there are preprocessed data - lets load it\n",
      "[49  4  7  1 17  1 11 11]\n",
      "INFO:tensorflow:Restoring parameters from saved_model\n",
      "Farewellos,\n",
      "We have made mourning; and in this sounds\n",
      "The swear to the brother will not breathed.\n",
      "I will tha\n"
     ]
    }
   ],
   "source": [
    "Synthesize(LSTMCell_GRU,\"Farewell\")"
   ]
  },
  {
   "cell_type": "code",
   "execution_count": 58,
   "metadata": {
    "scrolled": true
   },
   "outputs": [
    {
     "name": "stdout",
     "output_type": "stream",
     "text": [
      "there are preprocessed data - lets load it\n",
      "[32  0 14 15  0 11  3  7 12]\n",
      "INFO:tensorflow:Restoring parameters from saved_model\n",
      "O my lord,\n",
      "Our arch-station to the people, sir,\n",
      "With whose souls of blood in the seats of the fishes,\n",
      "Still c\n"
     ]
    }
   ],
   "source": [
    "Synthesize(LSTMCell_GRU,\"O my lord\")"
   ]
  },
  {
   "cell_type": "code",
   "execution_count": 59,
   "metadata": {
    "scrolled": true
   },
   "outputs": [
    {
     "name": "stdout",
     "output_type": "stream",
     "text": [
      "there are preprocessed data - lets load it\n",
      "[42  3  6  2  0  8  3 22 11  1  0  6  9  7]\n",
      "INFO:tensorflow:Restoring parameters from saved_model\n",
      "Most noble sir's war,\n",
      "That that's the bought made made a soldier than take up\n",
      "Inest together to the bridegry finge\n"
     ]
    }
   ],
   "source": [
    "Synthesize(LSTMCell_GRU,\"Most noble sir\")"
   ]
  },
  {
   "cell_type": "code",
   "execution_count": 60,
   "metadata": {
    "scrolled": true
   },
   "outputs": [
    {
     "name": "stdout",
     "output_type": "stream",
     "text": [
      "there are preprocessed data - lets load it\n",
      "[21  0 17  9 11 11  0 22  1  0 28  9  8 20 16  0  3  7  0 12  9  1 25]\n",
      "INFO:tensorflow:Restoring parameters from saved_model\n",
      "I will be king, or die.\n",
      "\n",
      "Nurse:\n",
      "O so see against my brother's estimate his trade.\n",
      "Take my liege and hopeful tonguest, how s\n"
     ]
    }
   ],
   "source": [
    "Synthesize(LSTMCell_GRU,\"I will be king, or die.\")"
   ]
  },
  {
   "cell_type": "code",
   "execution_count": 28,
   "metadata": {},
   "outputs": [],
   "source": [
    "def Synthesize(MyCell,init_string=\"None\"):\n",
    "    tf.reset_default_graph()\n",
    "    num_steps_bak=args.num_steps\n",
    "    batch_size_bak=args.batch_size\n",
    "    args.num_steps=1\n",
    "    args.batch_size=1\n",
    "    with tf.variable_scope('placeholders'):\n",
    "            inputs = tf.placeholder(tf.int32, [args.batch_size, args.num_steps])\n",
    "            targets = tf.placeholder(tf.int32, [args.batch_size, args.num_steps])\n",
    "    init_state, train_step, loss, final_state, saver, prob=network(MyCell,inputs,targets)\n",
    "\n",
    "    # Define initialization\n",
    "    if (init_string is None):\n",
    "        initialization = 'Where are you going today?'\n",
    "    else:\n",
    "        initialization = init_string\n",
    "    loader= TextLoader(args.data_dir, batch_size=1, seq_length=1)\n",
    "\n",
    "    forecast_data=np.array(list(map(loader.vocab_to_idx.get, initialization)))\n",
    "    print(forecast_data)\n",
    "    forecast_range = 100\n",
    "    top_k=5\n",
    " \n",
    "    with tf.Session() as sess:\n",
    "\n",
    "        # Load saved model\n",
    "        saver.restore(sess, 'saved_model')\n",
    "        state_ = sess.run(init_state)\n",
    "\n",
    "        # Run rnn on initialization data to get final hidden state before simulation\n",
    "        state_ = sess.run(init_state)\n",
    "        for i in range(forecast_data.shape[0]):\n",
    "\n",
    "            feed_dict = dict()\n",
    "            # Feed current predicted\n",
    "            feed_dict[inputs] = forecast_data[i].reshape(args.batch_size, args.num_steps)\n",
    "            if ('RNN' in MyCell.__name__):\n",
    "                feed_dict[init_state] = state_\n",
    "            else:\n",
    "                feed_dict[init_state.c] = state_.c\n",
    "                feed_dict[init_state.h] = state_.h\n",
    "            # Get new hidden state and prediction probabilities\n",
    "            predicted_prob, state_ = sess.run([prob, final_state], feed_dict=feed_dict)\n",
    "\n",
    "        # last state of this step becomes first state of simulation\n",
    "\n",
    "        for i in range(forecast_range):\n",
    "\n",
    "            feed_dict = dict()\n",
    "            # Feed current predicted\n",
    "            feed_dict[inputs] = forecast_data[-args.num_steps:].reshape(args.batch_size, args.num_steps)\n",
    "            if ('RNN' in MyCell.__name__):\n",
    "                feed_dict[init_state] = state_\n",
    "            else:\n",
    "                feed_dict[init_state.c] = state_.c\n",
    "                feed_dict[init_state.h] = state_.h\n",
    "            predicted_prob, state_ = sess.run([prob, final_state], feed_dict=feed_dict)\n",
    "\n",
    "            predicted_prob = predicted_prob.ravel()\n",
    "            # Simulate from top top_k probs\n",
    "            predicted_prob[np.argsort(predicted_prob)[:-top_k]] = 0\n",
    "            predicted_prob = predicted_prob/np.sum(predicted_prob)\n",
    "            sample = np.random.choice(args.num_chars, 1, p=predicted_prob)[0]\n",
    "\n",
    "\n",
    "            forecast_data = np.hstack((forecast_data, sample))\n",
    "\n",
    "    forecasted_chars = np.asarray([loader.idx_to_vocab[elem] for elem in forecast_data])\n",
    "\n",
    "    print(''.join(forecasted_chars))\n",
    "  \n",
    "    args.num_steps=num_steps_bak\n",
    "    args.batch_size=batch_size_bak"
   ]
  },
  {
   "cell_type": "code",
   "execution_count": 32,
   "metadata": {},
   "outputs": [],
   "source": [
    "def Tester(MyCell, num_batches=None):\n",
    "    tf.reset_default_graph()\n",
    "    with tf.variable_scope('placeholders'):\n",
    "            inputs = tf.placeholder(tf.int32, [args.batch_size, args.num_steps])\n",
    "            targets = tf.placeholder(tf.int32, [args.batch_size, args.num_steps])\n",
    "    init_state, train_step, loss, final_state, saver, prob=network(MyCell,inputs,targets)\n",
    "\n",
    "    # Define initialization\n",
    "    initialization = 'Where are you going today?'\n",
    "    loader= TextLoader(args.data_dir, batch_size=args.batch_size, seq_length=args.num_steps)\n",
    "\n",
    "    forecast_data=np.array(list(map(loader.vocab_to_idx.get, initialization)))\n",
    "    print(forecast_data)\n",
    "    forecast_range = 100\n",
    "    top_k=5\n",
    " \n",
    "    if (num_batches is None):\n",
    "        num_batches=loader.test_num_batches\n",
    "    with tf.Session() as sess:\n",
    "\n",
    "        # Load saved model\n",
    "        saver.restore(sess, 'saved_model')\n",
    "        state_ = sess.run(init_state)\n",
    "\n",
    "        loader.reset_batch_pointer()\n",
    "        \n",
    "         # Get test error loss\n",
    "        test_loss = 0\n",
    "        print('num_batches',num_batches)\n",
    "\n",
    "        for batch in range(num_batches):\n",
    "\n",
    "            x, y = loader.next_batch_test()\n",
    "\n",
    "            feed_dict = dict()\n",
    "            feed_dict[inputs] = x\n",
    "            feed_dict[targets] = y\n",
    "\n",
    "            if ('RNN' in MyCell.__name__):\n",
    "                feed_dict[init_state] = state_\n",
    "            else:\n",
    "                feed_dict[init_state.c] = state_.c\n",
    "                feed_dict[init_state.h] = state_.h\n",
    "\n",
    "            test_loss_, state_= sess.run([loss, final_state], feed_dict=feed_dict)\n",
    "            test_loss += test_loss_\n",
    "        test_loss=test_loss/num_batches\n",
    "        print('test loss:',  test_loss)\n",
    "\n",
    "\n",
    "    \n",
    "    return(test_loss)"
   ]
  },
  {
   "cell_type": "markdown",
   "metadata": {},
   "source": [
    "# II. Report & Analysis"
   ]
  },
  {
   "cell_type": "markdown",
   "metadata": {},
   "source": [
    "### Basic RNN\n",
    "    - Loss of training data at 30th epoch: 1.348\n",
    "    - Loss on test data: 1.465\n",
    "    - Synthesis performance: \n",
    "        The synthesis on chosen 5 example sentences did not quite make sense. The words predicted were not in strong relationship with the prime sentences, nor were they making sense by themselves.\n",
    "    - Comparison with basic LSTM:\n",
    "        a). Compared to basic LSTM, both the loss on training data and loss on test data are higher, validating the fact that LSTM is better at holding information far away ahead.\n",
    "        b). The training error plot shows that the loss decreases faster than that of the basic LSTM at the beginning but turned slower as the epoch number increases. The training loss decreases at descent rate even towards the end of the training. \n",
    "\n",
    "### RNN with same number of parameters as the LSTM\n",
    "Increase the number of parameters by multiplying the original num_units by 2, thus generating weights and biases of 4 times number of parameters to that of the original RNN model. The new model has the same number of parameters at the LSTM. \n",
    "    - Loss of training data at 30th epoch: 1.266\n",
    "    - Loss on test data: 1.456\n",
    "    - Synthesis performance: \n",
    "        Performed better than basic RNN on sentence \"O my Lord\" and \"Most noble sir\". The sentences predicted after correspond with the meanings of and words in the two sentences. For example, the predicted sentence contains the word \"sir\" for the \"Most noble sir\". The performance on other three sentences is not distinguishably better than that of the basic RNN.\n",
    "    - Comparison:\n",
    "        Compared to basic RNN, this model results in lower loss on training data but similar loss on test data. However, with the same number of parameters with the basic LSTM, the loss on training set is still higher than that of the basic LSTM. This might be due to that increasing the number of parameters will improve fitting of the RNN on training data, but will not necessarily show improved performance on test data, and will not handle \"long-term dependencies\". The performance on sythesizing is slightly better than that of the basic RNN. \n",
    "\n",
    "### RNN with 2 internal layers\n",
    "Adding another internal layer to the basic RNN model. \n",
    "    - Loss of training data at 30th epoch: 1.385\n",
    "    - Loss on test data: 1.467\n",
    "    - Synthesis performance: \n",
    "        The performance on sythesizing is similar to that of the basic RNN model.\n",
    "    - Comparison:\n",
    "        Compared to basic RNN model, the performances on the training data and test data drop down. \n",
    "\n",
    "### RNN with 2 internal layers and increased number of parameters \n",
    "Both adding another internal layer and increasing the number of parameters to the original RNN model. \n",
    "    - Loss of training data at 30th epoch: 1.421\n",
    "    - Loss on test data: 1.488\n",
    "    - Synthesis performance:\n",
    "        The performance on sythesizing is similar to that of the basic RNN model.\n",
    "    - Comparison:\n",
    "        The performances on the training data and test data drop down compared to both the RNN with only increased \n",
    "        number of internal layers and increased number of parameters.\n",
    "\n",
    "### Basic LSTM\n",
    "    - Loss of training data at 30th epoch: 1.1987495609231897\n",
    "    - Loss on test data: 1.397\n",
    "    - Synthesis performance:\n",
    "        It is quite notable that the characters predicted can make good sense. \n",
    "\n",
    "### LSTM with coupled forget and input gates\n",
    "Implementing the LSTM with coupled forget and input gates introduced at http://colah.github.io/posts/2015-08-Understanding-LSTMs/\n",
    "    - Loss of training data at 30th epoch: 1.188\n",
    "    - Loss on test data: 1.401\n",
    "    - Synthesis performance: \n",
    "        Better than RNNs.\n",
    "    - Comparison:\n",
    "        The loss on training data is lower than that of the basic LSTM. The loss on test data is similar to that of \n",
    "        the basic LSTM. Overall, the model does a good job on predicting characters.\n",
    "\n",
    "### Gated Recurrent Unit (GRU)\n",
    "Implementing the GRU introduced at http://colah.github.io/posts/2015-08-Understanding-LSTMs/\n",
    "    - Loss of training data at 30th epoch: 1.174\n",
    "    - Loss on test data: 1.456\n",
    "    - Synthesis performance:\n",
    "        Better than RNNs.\n",
    "    - Comparison:\n",
    "        The loss on training data is lower than that of the basic LSTM and that of the LSTM with coupled forget and \n",
    "        input gates. However, the loss on test data is notably higher than both. "
   ]
  },
  {
   "cell_type": "markdown",
   "metadata": {},
   "source": [
    "### Prime sentences used in example synthesis and the text after"
   ]
  },
  {
   "cell_type": "markdown",
   "metadata": {},
   "source": [
    "I will be king, or die.\n",
    "Brother, thou shalt to London presently,\n",
    "And whet on Warwick to this enterprise.\n",
    "Thou, Richard, shalt to the Duke of Norfolk,\n",
    "And tell him privily of our intent.\n",
    "You Edward, shall unto my Lord Cobham,\n",
    "With whom the Kentishmen will willingly rise:\n",
    "In them I trust; for they are soldiers,\n",
    "Witty, courteous, liberal, full of spirit.\n",
    "While you are thus employ'd, what resteth more,\n",
    "But that I seek occasion how to rise,\n",
    "And yet the king not privy to my drift,\n",
    "Nor any of the house of Lancaster?\n",
    "But, stay: what news? Why comest thou in such post?"
   ]
  },
  {
   "cell_type": "markdown",
   "metadata": {},
   "source": [
    "O my lord!\n",
    "I would your spirit were easier for advice,\n",
    "Or stronger for your need."
   ]
  },
  {
   "cell_type": "markdown",
   "metadata": {},
   "source": [
    "First Senator:\n",
    "Farewell.\n",
    "\n",
    "Second Senator:\n",
    "Farewell.\n",
    "\n",
    "All:\n",
    "Farewell."
   ]
  },
  {
   "cell_type": "markdown",
   "metadata": {},
   "source": [
    "I do; and surely\n",
    "It is a sleepy language and thou speak'st\n",
    "Out of thy sleep. What is it thou didst say?\n",
    "This is a strange repose, to be asleep\n",
    "With eyes wide open; standing, speaking, moving,\n",
    "And yet so fast asleep."
   ]
  },
  {
   "cell_type": "markdown",
   "metadata": {},
   "source": [
    "Most noble sir,\n",
    "That which I shall report will bear no credit,\n",
    "Were not the proof so nigh. Please you, great sir,\n",
    "Bohemia greets you from himself by me;\n",
    "Desires you to attach his son, who has--\n",
    "His dignity and duty both cast off--\n",
    "Fled from his father, from his hopes, and with\n",
    "A shepherd's daughter."
   ]
  }
 ],
 "metadata": {
  "kernelspec": {
   "display_name": "Python 3",
   "language": "python",
   "name": "python3"
  },
  "language_info": {
   "codemirror_mode": {
    "name": "ipython",
    "version": 3
   },
   "file_extension": ".py",
   "mimetype": "text/x-python",
   "name": "python",
   "nbconvert_exporter": "python",
   "pygments_lexer": "ipython3",
   "version": "3.6.4"
  }
 },
 "nbformat": 4,
 "nbformat_minor": 2
}
